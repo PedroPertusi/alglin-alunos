{
 "cells": [
  {
   "cell_type": "code",
   "execution_count": 2,
   "metadata": {},
   "outputs": [],
   "source": [
    "import autograd.numpy as np_\n",
    "from autograd import grad\n",
    "import pandas as pd\n",
    "df = pd.read_csv('jogadas.csv')\n",
    "df.head()\n",
    "\n",
    "h = df['H'].to_numpy()/100\n",
    "t = df['T'].to_numpy()\n",
    "T = t**2/2\n",
    "\n",
    "\n",
    "def erro( parametros ):\n",
    "    a, x, y_medido = parametros\n",
    "    yhat = a * x\n",
    "    mse = np_.mean( (yhat-y_medido)**2 ) # modifique esta linha!!\n",
    "    return mse\n",
    "\n",
    "g = grad(erro)\n",
    "\n",
    "\n",
    "a_modelo = 0.0\n",
    "#print(g( (a_modelo, b_modelo, x, ym) ))\n",
    "\n",
    "alpha = 0.1\n",
    "valores = []\n",
    "for _ in range(10000): # por 10 iterações...\n",
    "    da, dx, dy = g( (a_modelo, T, h) )\n",
    "    a_modelo = a_modelo - alpha * da\n",
    "    valores.append( a_modelo )\n",
    "    #print(a_modelo, b_modelo)\n",
    "    # Calcular gradiente\n",
    "\n",
    "    # Modificar parametros do modelo para reduzir o erro\n",
    "\n",
    "print(a_modelo)"
   ]
  }
 ],
 "metadata": {
  "kernelspec": {
   "display_name": "Python 3",
   "language": "python",
   "name": "python3"
  },
  "language_info": {
   "codemirror_mode": {
    "name": "ipython",
    "version": 3
   },
   "file_extension": ".py",
   "mimetype": "text/x-python",
   "name": "python",
   "nbconvert_exporter": "python",
   "pygments_lexer": "ipython3",
   "version": "3.9.10"
  },
  "orig_nbformat": 4
 },
 "nbformat": 4,
 "nbformat_minor": 2
}
