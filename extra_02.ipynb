{
 "cells": [
  {
   "cell_type": "code",
   "execution_count": 13,
   "metadata": {},
   "outputs": [
    {
     "name": "stdout",
     "output_type": "stream",
     "text": [
      "9.625346877285544\n"
     ]
    }
   ],
   "source": [
    "import autograd.numpy as np_\n",
    "from autograd import grad\n",
    "import pandas as pd\n",
    "\n",
    "# h = (G x t^2) / 2\n",
    "\n",
    "df = pd.read_csv('jogadas.csv')\n",
    "\n",
    "y_medido = df['Altura (cm)'].to_numpy()/100\n",
    "x = df['T^2/2'].to_numpy()\n",
    "\n",
    "def erro( parametros ):\n",
    "    a, x, y_medido = parametros\n",
    "    yhat = a * x\n",
    "    mse = np_.mean( (yhat-y_medido)**2 ) # modifique esta linha!!\n",
    "    return mse\n",
    "\n",
    "g = grad(erro)\n",
    "\n",
    "\n",
    "a_modelo = 0.0\n",
    "a_list = []\n",
    "alpha = 0.01\n",
    "for _ in range(10000): # por 10 iterações...\n",
    "    da, dx, dy = g( (a_modelo, x, y_medido) )\n",
    "    a_modelo = a_modelo - alpha * da\n",
    "    a_list.append( a_modelo )\n",
    "\n",
    "print(a_modelo)"
   ]
  },
  {
   "cell_type": "code",
   "execution_count": 23,
   "metadata": {},
   "outputs": [
    {
     "name": "stdout",
     "output_type": "stream",
     "text": [
      "16.725654286010233\n",
      "-32.96923468259445\n",
      "-13.132334974558432\n"
     ]
    }
   ],
   "source": [
    "import autograd.numpy as np_\n",
    "from autograd import grad\n",
    "import pandas as pd\n",
    "import matplotlib.pyplot as plt\n",
    "\n",
    "# h = (G x t^2) / 2\n",
    "\n",
    "df = pd.read_csv('jogadas.csv')\n",
    "\n",
    "y_medido = df['Altura (cm)'].to_numpy()/100\n",
    "x = df['T^2/2'].to_numpy()\n",
    "\n",
    "def erro( parametros ):\n",
    "    a, b, c, x, y_medido = parametros\n",
    "    yhat = a * x + b * x ** 2 + c * x ** 3\n",
    "    mse = np_.mean( (yhat-y_medido)**2 ) # modifique esta linha!!\n",
    "    return mse\n",
    "\n",
    "g = grad(erro)\n",
    "\n",
    "\n",
    "a_modelo = 0.0\n",
    "b_modelo = 0.0\n",
    "c_modelo = 0.0\n",
    "a_list = []\n",
    "b_list = []\n",
    "c_list = []\n",
    "alpha = 0.1\n",
    "for _ in range(100000): # por 10 iterações...\n",
    "    da, db, dc, dx, dy = g( (a_modelo, b_modelo, c_modelo, x, y_medido) )\n",
    "    a_modelo = a_modelo - alpha * da\n",
    "    b_modelo = b_modelo - alpha * db\n",
    "    c_modelo = c_modelo - alpha * dc\n",
    "    a_list.append( a_modelo )\n",
    "    b_list.append( b_modelo )\n",
    "    c_list.append( c_modelo )\n",
    "\n",
    "print(a_modelo)\n",
    "print(b_modelo)\n",
    "print(c_modelo)"
   ]
  },
  {
   "cell_type": "code",
   "execution_count": 24,
   "metadata": {},
   "outputs": [
    {
     "data": {
      "image/png": "[encoded data removed]",
      "text/plain": [
       "<Figure size 432x288 with 1 Axes>"
      ]
     },
     "metadata": {
      "needs_background": "light"
     },
     "output_type": "display_data"
    }
   ],
   "source": [
    "plt.figure()\n",
    "plt.plot(a_list)\n",
    "plt.plot(b_list)\n",
    "plt.plot(c_list)\n",
    "plt.show()"
   ]
  },
  {
   "attachments": {},
   "cell_type": "markdown",
   "metadata": {},
   "source": [
    "quanto melhor as medidas b e c vao pra 0, e quanto pior mais ele vai ter que usar b e c pra modelar "
   ]
  },
  {
   "attachments": {},
   "cell_type": "markdown",
   "metadata": {},
   "source": [
    "perg da prova: \n",
    "X = AY\n",
    "XY^-1 = A --> nao pode fazer isso pra descubrir A por que y não é inversível (isso ocorre por causa do formato dele, por ex n eh quadrada)\n"
   ]
  }
 ],
 "metadata": {
  "kernelspec": {
   "display_name": "Python 3",
   "language": "python",
   "name": "python3"
  },
  "language_info": {
   "codemirror_mode": {
    "name": "ipython",
    "version": 3
   },
   "file_extension": ".py",
   "mimetype": "text/x-python",
   "name": "python",
   "nbconvert_exporter": "python",
   "pygments_lexer": "ipython3",
   "version": "3.9.10"
  },
  "orig_nbformat": 4
 },
 "nbformat": 4,
 "nbformat_minor": 2
}
