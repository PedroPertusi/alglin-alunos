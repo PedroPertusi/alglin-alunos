{
 "cells": [
  {
   "cell_type": "code",
   "execution_count": null,
   "metadata": {},
   "outputs": [],
   "source": [
    "import numpy as np\n",
    "import matplotlib.pyplot as plt\n",
    "import matplotlib.image as mpimg\n",
    "#import cv2 as cv\n",
    "import pandas as pd\n",
    "#import pygame"
   ]
  },
  {
   "attachments": {},
   "cell_type": "markdown",
   "metadata": {},
   "source": [
    "# Capítulo 5"
   ]
  },
  {
   "attachments": {},
   "cell_type": "markdown",
   "metadata": {},
   "source": [
    "# Parte 1"
   ]
  },
  {
   "attachments": {},
   "cell_type": "markdown",
   "metadata": {},
   "source": [
    "# Exercício 1\n",
    "**Objetivo: Executar um sistema dinâmico e procurar por pontos de estabilidade**\n"
   ]
  },
  {
   "attachments": {},
   "cell_type": "markdown",
   "metadata": {},
   "source": [
    "No [capítulo 2](02-sistemas_lineares.ipynb), usamos uma matriz para representar dois sistemas que operam dinamicamente: a população de carcarás e sapos numa região fictícia, e a dinâmica de navegação de um web-surfista aleatório. Se precisar, revise esse material!\n",
    "\n",
    "Esses dois sistemas são chamados de *sistemas dinâmicos* porque eles estão tratando de uma evolução de elementos ao longo do tempo. Como já falamos de carcarás e navegadores, vamos tratar agora de um outro sistema bem interessante, que é o de bicicletas públicas de Montreal.\n",
    "\n",
    "Já por perto de 2010 a 2011, Montreal tinha um sistema de bicicletas públicas bastante parecido com as bicicletas Itaú que temos hoje em São Paulo. Só que Montreal é uma cidade que fica em uma montanha (cujo ponto mais alto é o [Mount Royal](https://www.google.com/maps/place/Mount+Royal+Park/@45.5023053,-73.6098349,14.25z/data=!4m13!1m7!3m6!1s0x4cc91a541c64b70d:0x654e3138211fefef!2sMontreal,+QC,+Canada!3b1!8m2!3d45.5018869!4d-73.5673919!3m4!1s0x4cc91a3b89d50ee1:0x4c8dc463a4718c9a!8m2!3d45.5015664!4d-73.5932179)), o que levou a um problema interessante: as pessoas tendem a tomar uma bicicleta emprestada na estação que fica na região mais alta e devolver em uma das estações das regiões mais baixas, mas raramente alguém faz o caminho inverso. O fim dessa história é que a [prefeitura contratou caminhões para ficarem levando bicicletas morro acima](https://www.csmonitor.com/World/Global-News/2011/0921/Montreal-s-public-bike-system-faces-uphill-battle), e uma consequência inesperada é que essa história seria um exemplo numa aula de álgebra linear dez anos depois num outro hemisfério.\n",
    "\n",
    "---\n",
    "\n",
    "Em nosso modelo, vamos fazer várias suposições que cabem para o nosso exemplo, mas que não necessariamente correspondem a dados reais.\n",
    "\n",
    "* Vamos supor que temos três estações. As duas primeiras (E1 e E2) ficam na parte baixa da cidade. A outra estação (E3) fica na parte alta.\n",
    "* Quando uma bicicleta é tomada emprestada em E1, ela tem 90% de chance de ser devolvida em E2 e 10% de chance de ser devolvida em E3.\n",
    "* Quando uma bicicleta é tomada emprestada em E2, ela tem 95% de chance de ser devolvida em E1 e 5% de chance de ser devolvida em E3.\n",
    "* Quando uma bicicleta é tomada emprestada em E3, ela tem 70% de chance de ser devolvida em E1 e 30% de chance de ser devolvida em E2.\n",
    "\n",
    "Vamos supor que cada estação começa com 10 bicicletas, e que não há um limite máximo de bicicletas que podem ficar em cada estação.\n",
    "\n",
    "Gostaríamos de saber:\n",
    "\n",
    "(a) Após alguns dias de iterações aleatórias, quantas bicicletas esperamos encontrar em cada uma das estações?\n",
    "\n",
    "(b) Com esses dados inventados, vai ser necessário contratar caminhões para levar bicicletas de alguma estação para outra? Para quais?\n",
    "\n",
    "(c) Se, ao invés de começarmos nossas iterações com 10 bicicletas em cada estação, começarmos com todas as 30 bicicletas na estação E3, no topo do morro, devemos encontrar uma quantidade final de bicicletas diferente, ao fim de várias iterações?\n",
    "\n",
    "---\n",
    "\n",
    "Discussão sobre a solução:\n",
    "\n",
    "Sob um ponto de vista matemático, um ciclista aleatório parece se comportar de uma maneira muito parecida com um web-surfista aleatório! Veja o exercício 14 do capítulo de sistemas lineares para uma explicação sobre isso. Podemos representar nosso vetor de bicicletas como:\n",
    "\n",
    "$$\n",
    "x_0 = 30 \\begin{bmatrix} 1/3 \\\\ 1/3 \\\\ 1/3 \\end{bmatrix}\n",
    "$$\n",
    "\n",
    "e a matriz que representa as transições entre estações será a matriz $A$ de forma que $a[i,j]=P(s_t = i | s_{t-1}=j)$, isto é, a $a_{i,j}$ é a probabilidade de uma bicicleta ser deixada na estação $i$ sabendo que ela estava estação $j$:\n",
    "\n",
    "$$\n",
    "A = \\begin{bmatrix} \n",
    "    0 & 0.9 & 0.7 \\\\\n",
    "    0.95 & 0 & 0.3 \\\\\n",
    "    0.05 & 0.1 & 0 \n",
    "    \\end{bmatrix}\n",
    "$$\n",
    "\n"
   ]
  },
  {
   "cell_type": "code",
   "execution_count": null,
   "metadata": {},
   "outputs": [],
   "source": [
    "# Comecei com as matrizes já digitadas no código \n",
    "x = np.array([[1], [1], [1]])/3\n",
    "A = np.array( [ [0, 0.95, 0.05], [0.9, 0, 0.1], [0.7, 0.3, 0]]).T\n",
    "# um passo: x = A @ x\n",
    "# implemente 100 passos seguidos!\n",
    "for _ in range(100):\n",
    "    x = A@x\n",
    "\n",
    "# Número de bicicletas por estação = # total de bicicletas * P(bicicleta por estação)\n",
    "print(30*x)"
   ]
  },
  {
   "cell_type": "code",
   "execution_count": null,
   "metadata": {},
   "outputs": [],
   "source": []
  },
  {
   "attachments": {},
   "cell_type": "markdown",
   "metadata": {},
   "source": [
    "# Exercício 2\n",
    "**Objetivo: calcular auto-valores e auto-vetores usando pacotes Python**\n",
    "\n",
    "O problema das bicicletas de Montreal (assim como o PageRank e o problema dos carcarás do Capítulo 2) está ligado a uma característica de matrizes que é a existência de vetores e valores chamados de auto-valores e de auto-vetores. Quando um auto-vetor de uma matriz é multiplicado pela própria matriz, o resultado é um múltiplo do próprio vetor, isto é:\n",
    "\n",
    "$$\n",
    "Ax = x \\lambda,\n",
    "$$\n",
    "onde: $A$ é a matriz, $x$ é o auto-vetor e $\\lambda$ é o auto-valor correspondente.\n",
    "\n",
    "Por exemplo:\n",
    "\n",
    "$$\n",
    "\\begin{bmatrix} \n",
    "    2 & 0  \\\\\n",
    "    0 & 1 \n",
    "\\end{bmatrix}\n",
    "\\begin{bmatrix} \n",
    "    1 \\\\\n",
    "    0  \n",
    "\\end{bmatrix}\n",
    "= \n",
    "\\begin{bmatrix} \n",
    "    2 \\\\\n",
    "    0  \n",
    "\\end{bmatrix}\n",
    "=\n",
    "2\n",
    "\\begin{bmatrix} \n",
    "    1 \\\\\n",
    "    0  \n",
    "\\end{bmatrix},\n",
    "$$\n",
    "portanto $[1,0]^T$ é um auto-vetor de $[[2, 0],[0,1]]$, e $2$ é o auto-valor correspondente.\n",
    "\n",
    "Se tivermos algum vetor na mesma direção de $x$ mas multiplicado por algum número real $\\alpha$, isto é, $y=\\alpha x$, podemos manter a mesma equação:\n",
    "\n",
    "$$\n",
    "A \\alpha x = \\alpha x \\lambda \\rightarrow Ay = y \\lambda.\n",
    "$$\n",
    "\n",
    "a) No problema das bicicletas de Montreal, encontramos um auto-vetor da matriz $A$. Qual é esse auto-vetor, e qual é o auto-valor correspondente? \n",
    "\n",
    "Lembrando que:\n",
    "$$\n",
    "A = \\begin{bmatrix} \n",
    "    0 & 0.9 & 0.7 \\\\\n",
    "    0.95 & 0 & 0.3 \\\\\n",
    "    0.05 & 0.1 & 0 \n",
    "    \\end{bmatrix}\n",
    "$$\n",
    "\n",
    "b) A instrução `w, v = np.linalg.eig(A)` retorna os auto-vetores da matriz A na variável `v` e os auto-valores correspondentes na variável `w`. Use essa função para calcular os auto-valores e auto-vetores da matriz $A$ do problema das bicicletas de Montreal.\n"
   ]
  },
  {
   "attachments": {},
   "cell_type": "markdown",
   "metadata": {},
   "source": [
    "# Exercício 3\n",
    "**Objetivo: auto-vetores e auto-valores como pontos de estabilidade, expansão, ou colapso**\n",
    "\n",
    " Vamos retomar o problema da população de carcarás e de sapos no Capítulo 2. Nesse problema, tínhamos a situação em que carcarás estão no mesmo habitat que sapos, obedecendo às seguintes regras:\n",
    "\n",
    "* A população de carcarás naturalmente cai em 20% a cada mês\n",
    "* Para cada cinco mil sapos existentes naquele mês, um novo carcará nasce\n",
    "* A população de sapos naturalmente sobe em 10% porque eles se reproduzem\n",
    "* A cada mês, cada carcará consegue comer 100 sapos\n",
    "\n",
    "Isso significa que podemos escrever equações para calcular o número de carcarás e de sapos a cada mês, tomando por base a quantidade deles no mês anterior:\n",
    "\n",
    "$$ \n",
    "\\begin{cases}\n",
    "    \\begin{aligned}\n",
    "    c_t & = 0.8 c_{t-1} + 0.2 s_{t-1} \\\\\n",
    "    s_t & = - 0.1 c_{t-1} + 1.1 s_{t-1} \\\\\n",
    "    \\end{aligned}\n",
    "\\end{cases}\n",
    "$$\n",
    "\n",
    "Podemos fazer esse cálculo usando a operação matricial:\n",
    "$$\n",
    "\\begin{bmatrix}\n",
    "    c_t \\\\\n",
    "    s_t \n",
    "\\end{bmatrix}\n",
    "=\n",
    "\\begin{bmatrix}\n",
    "    0.8 & 0.2\\\\\n",
    "    -0.1 & 1.1\n",
    "\\end{bmatrix} \n",
    "\\begin{bmatrix}\n",
    "    c_{t-1} \\\\\n",
    "    s_{t-1}\n",
    "\\end{bmatrix}\n",
    "$$\n",
    "\n",
    "Como já vimos, podemos calcular a dinâmica da população ao longo do tempo partindo, por exemplo, de 600 carcarás e 500 mil sapos:"
   ]
  },
  {
   "cell_type": "code",
<<<<<<< HEAD
   "execution_count": 55,
   "metadata": {},
   "outputs": [
    {
     "data": {
      "image/png": "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",
      "text/plain": [
       "<Figure size 504x144 with 1 Axes>"
      ]
     },
     "metadata": {
      "needs_background": "light"
     },
     "output_type": "display_data"
    }
   ],
=======
   "execution_count": null,
   "metadata": {},
   "outputs": [],
>>>>>>> 1c3ad157837ec03470b162b9223f1ed74dd54478
   "source": [
    "A = np.array([[0.8, 0.2], [-0.1,  1.1]])\n",
    "x = np.array([[600], [500]])\n",
    "populacao_carcaras = []\n",
    "populacao_sapos = []\n",
    "for _ in range(100):\n",
    "    populacao_carcaras.append(x[0,0])\n",
    "    populacao_sapos.append(x[1,0])\n",
    "    x = A @ x\n",
    "\n",
    "plt.figure(figsize=(7,2))\n",
    "plt.plot(populacao_carcaras, label='Carcarás')\n",
    "plt.plot(populacao_sapos, label='Sapos (* 1000)')\n",
    "plt.ylim([0,800])\n",
    "plt.ylabel('População')\n",
    "plt.xlabel('Semanas')\n",
    "plt.show()"
   ]
  },
  {
   "attachments": {},
   "cell_type": "markdown",
   "metadata": {},
   "source": [
    "a) Usando a função `np.linalg.eig`, encontre os auto-valores e auto-vetores da matriz que representa a dinâmica da população de carcarás e sapos. \n",
    "\n",
    "b) Qual é o auto-vetor correspondente ao auto-valor $1$?\n",
    "\n",
    "c) Como esse auto-vetor corresponde à dinâmica de população que observamos ao simular o sistema?\n",
    "\n",
    "d) O que acontece com o sistema se as condições iniciais forem iguais ao auto-vetor correspondente ao outro auto-valor?\n",
    "\n",
    "e) Explique essa dinâmica usando o conceito de auto-valores e auto-vetores, isto é, a equação $Ax = x \\lambda$ onde $A$ é a matriz da dinâmica, $x$ é o auto-vetor e $\\lambda$ é o auto-valor correspondente."
   ]
  },
  {
   "attachments": {},
   "cell_type": "markdown",
   "metadata": {},
   "source": [
<<<<<<< HEAD
    "a) Usando a função `np.linalg.eig`, encontre os auto-valores e auto-vetores da matriz que representa a dinâmica da população de carcarás e sapos. "
   ]
  },
  {
   "cell_type": "code",
   "execution_count": 58,
   "metadata": {},
   "outputs": [
    {
     "name": "stdout",
     "output_type": "stream",
     "text": [
      "[0.9 1. ] [[-0.89442719 -0.70710678]\n",
      " [-0.4472136  -0.70710678]]\n"
     ]
    }
   ],
   "source": [
    "w,v = np.linalg.eig(A) #w = autovalor, v = autovetor\n",
    "print(w,v)"
   ]
  },
  {
   "attachments": {},
   "cell_type": "markdown",
   "metadata": {},
   "source": [
    "b) Qual é o auto-vetor correspondente ao auto-valor $1$?"
   ]
  },
  {
   "cell_type": "code",
   "execution_count": 59,
   "metadata": {},
   "outputs": [
    {
     "name": "stdout",
     "output_type": "stream",
     "text": [
      "[-0.70710678 -0.70710678]\n"
     ]
    }
   ],
   "source": [
    "print(v[:,1])"
   ]
  },
  {
   "attachments": {},
   "cell_type": "markdown",
   "metadata": {},
   "source": [
    "c) Como esse auto-vetor corresponde à dinâmica de população que observamos ao simular o sistema?"
   ]
  },
  {
   "cell_type": "code",
   "execution_count": 62,
   "metadata": {},
   "outputs": [
    {
     "name": "stdout",
     "output_type": "stream",
     "text": [
      "[1. 1.]\n",
      "[[1.00000664]\n",
      " [1.        ]]\n"
     ]
    }
   ],
   "source": [
    "print(v[:,1]/v[0,1])\n",
    "print(x/x[1])"
   ]
  },
  {
   "attachments": {},
   "cell_type": "markdown",
   "metadata": {},
   "source": [
    "d) O que acontece com o sistema se as condições iniciais forem iguais ao auto-vetor correspondente ao outro auto-valor?"
   ]
  },
  {
   "cell_type": "code",
   "execution_count": 63,
   "metadata": {},
   "outputs": [
    {
     "data": {
      "image/png": "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",
      "text/plain": [
       "<Figure size 504x144 with 1 Axes>"
      ]
     },
     "metadata": {
      "needs_background": "light"
     },
     "output_type": "display_data"
    }
   ],
   "source": [
    "x = v[:,0].reshape((2,1))\n",
    "x *= -1000\n",
    "populacao_carcaras = []\n",
    "populacao_sapos = []\n",
    "for _ in range(100):\n",
    "    populacao_carcaras.append(x[0,0])\n",
    "    populacao_sapos.append(x[1,0])\n",
    "    x = A @ x\n",
    "\n",
    "plt.figure(figsize=(7,2))\n",
    "plt.plot(populacao_carcaras, label='Carcarás')\n",
    "plt.plot(populacao_sapos, label='Sapos (* 1000)')\n",
    "plt.ylim([0,800])\n",
    "plt.ylabel('População')\n",
    "plt.xlabel('Semanas')\n",
    "plt.show()"
   ]
  },
  {
   "attachments": {},
   "cell_type": "markdown",
   "metadata": {},
   "source": [
=======
>>>>>>> 1c3ad157837ec03470b162b9223f1ed74dd54478
    "# Exercício 4\n",
    "*Objetivo: encontrar uma matriz à partir de seus auto-valores e auto-vetores*\n",
    "\n",
    "Em algumas situações (por exemplo, quando estou montando essa lista de exercícios - mas, de forma mais geral, quando estamos projetando sistemas dinâmicos), gostaríamos de encontrar matrizes que têm os autovalores e autovetores que queremos. Para isso, vamos escrever a equação de autovetores e autovalores na forma matricial.\n",
    "\n",
    "Quando estamos falando de somente um auto-vetor, podemos escrever:\n",
    "\n",
    "$$\n",
    "Ax = x \\lambda\n",
    "$$\n",
    "\n",
    "Porém, se tivermos dois auto-vetores, e seus auto-valores correspondentes, temos na verdade um sistema:\n",
    "\n",
    "$$\n",
    "\\begin{cases}\n",
    "Ax_1 = x_1 \\lambda_1 \\\\\n",
    "Ax_2 = x_2 \\lambda_2 \n",
    "\\end{cases}\n",
    "$$\n",
    "\n",
    "Esse sistema pode ser escrito na forma de uma multiplicação matricial, se assumirmos que nossos auto-vetores são vetores-coluna:\n",
    "\n",
    "$$\n",
    "A \\begin{bmatrix} x_1 & x_2 \\end{bmatrix} = \\begin{bmatrix} x_1 & x_2 \\end{bmatrix} \\begin{bmatrix} \\lambda_1 & 0 \\\\ 0 & \\lambda_2 \\end{bmatrix} \n",
    "$$\n",
    "\n",
    "Multiplicando os dois lados da equação por $\\begin{bmatrix} x_1 & x_2 \\end{bmatrix}^{-1}$, ficamos com:\n",
    "\n",
    "$$\n",
    "A \\begin{bmatrix} x_1 & x_2 \\end{bmatrix}\\begin{bmatrix} x_1 & x_2 \\end{bmatrix}^{-1} = \\begin{bmatrix} x_1 & x_2 \\end{bmatrix} \\begin{bmatrix} \\lambda_1 & 0 \\\\ 0 & \\lambda_2 \\end{bmatrix} \\begin{bmatrix} x_1 & x_2 \\end{bmatrix}^{-1}\n",
    "$$\n",
    "\n",
    "e, portanto:\n",
    "$$\n",
    "A = \\begin{bmatrix} x_1 & x_2 \\end{bmatrix} \\begin{bmatrix} \\lambda_1 & 0 \\\\ 0 & \\lambda_2 \\end{bmatrix} \\begin{bmatrix} x_1 & x_2 \\end{bmatrix}^{-1}\n",
    "$$\n",
    "\n",
    "Por exemplo, se quiséssemos uma matriz cujos auto-valores são $0.7$ e $0.2$ e os auto-vetores correspondentes são $[1,0]^T$ e $[0.5, 0.5]^T$, então deveríamos calcular:\n",
    "\n",
    "$$\n",
    "A = \\begin{bmatrix} 1 & 0.5 \\\\ 0 & 0.5 \\end{bmatrix} \\begin{bmatrix} 0.7 & 0 \\\\ 0  & 0.2 \\end{bmatrix} \\begin{bmatrix} 1 & 0.5 \\\\ 0 & 0.5 \\end{bmatrix}^{-1}\n",
    "$$\n",
    "\n",
    "Encontre a matriz com autovetores $[1,0]^T$ e $[0.5, 0.5]^T$ e autovalores $0.7$ e $0.2$."
   ]
  },
  {
   "cell_type": "code",
<<<<<<< HEAD
   "execution_count": 74,
   "metadata": {},
   "outputs": [
    {
     "name": "stdout",
     "output_type": "stream",
     "text": [
      "[[ 0.7 -0.5]\n",
      " [ 0.   0.2]]\n",
      "[[ 0.7 -0.5]\n",
      " [ 0.   0.2]]\n"
     ]
    }
   ],
   "source": [
    "S = np.array( [[1, 0], [0.5, 0.5]]).T\n",
    "L = np.array( [ [0.7, 0], [0, 0.2] ])\n",
    "\n",
    "print(S @ L @ np.linalg.inv(S))\n",
    "\n",
    "A_din = S @ L @ np.linalg.inv(S)\n",
    "print(A_din)\n",
    "x = np.array([[1000,1000]]).T"
   ]
  },
  {
   "cell_type": "code",
   "execution_count": 75,
   "metadata": {},
   "outputs": [
    {
     "data": {
      "image/png": "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",
      "text/plain": [
       "<Figure size 504x144 with 1 Axes>"
      ]
     },
     "metadata": {
      "needs_background": "light"
     },
     "output_type": "display_data"
    }
   ],
   "source": [
    "populacao_carcaras = []\n",
    "populacao_sapos = []\n",
    "for _ in range(1000):\n",
    "    populacao_carcaras.append(x[0,0])\n",
    "    populacao_sapos.append(x[1,0])\n",
    "    x = A_din @ x\n",
    "\n",
    "plt.figure(figsize=(7,2))\n",
    "plt.plot(populacao_carcaras, label='Carcarás')\n",
    "plt.plot(populacao_sapos, label='Sapos (* 1000)')\n",
    "# plt.ylim([0,800])\n",
    "plt.ylabel('População')\n",
    "plt.xlabel('Semanas')\n",
    "plt.show()"
=======
   "execution_count": null,
   "metadata": {},
   "outputs": [],
   "source": [
    "S = np.array( [[1, 0], [0.5, 0.5]]).T\n",
    "L = np.array( [ [0.7, 0], [0, 0.2] ])"
>>>>>>> 1c3ad157837ec03470b162b9223f1ed74dd54478
   ]
  },
  {
   "attachments": {},
   "cell_type": "markdown",
   "metadata": {},
   "source": [
    "# Exercício 5\n",
    "*Objetivo: relacionar autovalores ao colapso, explosão e ao equilíbrio de sistemas dinâmicos*\n",
    "\n",
    "Até o momento, usamos um vetor $v$ para representar o estado de sistemas - a quantidade de bicicletas nas estações em algum momento, a quantidade de animais em alguma semana, e assim por diante. Vamos chamar nossa condição inicial de $v_0$, significando o vetor de estados $v$ no tempo $0$ (e, portanto, $v_1$ é o estado após uma iteração, e $v_{223}$ é o estado após $223$ iterações).\n",
    "\n",
    "Quando aplicamos uma matriz sobre um vetor de estados qualquer $v_0$, isto é, quando damos um passo em nosso sistema dinâmico, temos a situação:\n",
    "\n",
    "$$\n",
    "v_1 = A v_{0}\n",
    "$$\n",
    "\n",
    "Podemos aplicar novamente a matriz sobre $v_1$, encontrando:\n",
    "$$\n",
    "v_2 = A v_1 = A A v_0 = A^2 v_0.\n",
    "$$\n",
    "\n",
    "E, ao longo de $N$ iterações, teremos:\n",
    "$$\n",
    "v_N = A^N v_0\n",
    "$$\n",
    "---\n",
    "\n",
    "Isso é  o que fizemos diversas vezes até este momento. Vamos agora re-escrever essa mesma equação na usando a forma de autovalores e autovetores. As passagens que seguem parecem um pouco longas porque as expressões são longas, mas são somente a consequência de trocar $A$ nas equações acima pela decomposição matricial:\n",
    "\n",
    "$$\n",
    "A = \\begin{bmatrix} x_1 & x_2 \\end{bmatrix} \\begin{bmatrix} \\lambda_1 & 0 \\\\ 0 & \\lambda_2 \\end{bmatrix} \\begin{bmatrix} x_1 & x_2 \\end{bmatrix}^{-1}\n",
    "$$\n",
    "\n",
    "Aplicando essa mudança na primeira expressão, temos:\n",
    "\n",
    "$$\n",
    "v_1 = A v_0 = \\begin{bmatrix} x_1 & x_2 \\end{bmatrix} \\begin{bmatrix} \\lambda_1 & 0 \\\\ 0 & \\lambda_2 \\end{bmatrix} \\begin{bmatrix} x_1 & x_2 \\end{bmatrix}^{-1} v_{0}\n",
    "$$\n",
    "\n",
    "Na segunda iteração, temos:\n",
    "\n",
    "$$\n",
    "v_2 = A v_1 = \\left( A \\right) A v_0 = \\left( \\begin{bmatrix} x_1 & x_2 \\end{bmatrix} \\begin{bmatrix} \\lambda_1 & 0 \\\\ 0 & \\lambda_2 \\end{bmatrix} \\begin{bmatrix} x_1 & x_2 \\end{bmatrix}^{-1} \\right) \\begin{bmatrix} x_1 & x_2 \\end{bmatrix} \\begin{bmatrix} \\lambda_1 & 0 \\\\ 0 & \\lambda_2 \\end{bmatrix} \\begin{bmatrix} x_1 & x_2 \\end{bmatrix}^{-1}v_0\n",
    "$$\n",
    "\n",
    "Veja que podemos simplificar a multiplicação $ \\begin{bmatrix} x_1 & x_2 \\end{bmatrix}^{-1} \\begin{bmatrix} x_1 & x_2 \\end{bmatrix}$ no meio da cadeia de multiplicações, já que ela é igual à identidade. Ficamos então com:\n",
    "\n",
    "$$\n",
    "v_2 = \\begin{bmatrix} x_1 & x_2 \\end{bmatrix} \\begin{bmatrix} \\lambda_1 & 0 \\\\ 0 & \\lambda_2 \\end{bmatrix} \\begin{bmatrix} \\lambda_1 & 0 \\\\ 0 & \\lambda_2 \\end{bmatrix} \\begin{bmatrix} x_1 & x_2 \\end{bmatrix}^{-1}v_0\n",
    "$$\n",
    "\n",
    "Podemos resumir a multiplicação matricial $\\begin{bmatrix} \\lambda_1 & 0 \\\\ 0 & \\lambda_2 \\end{bmatrix} \\begin{bmatrix} \\lambda_1 & 0 \\\\ 0 & \\lambda_2 \\end{bmatrix}$ como $\\begin{bmatrix} \\lambda_1 & 0 \\\\ 0 & \\lambda_2 \\end{bmatrix}^2$, ficando com:\n",
    "\n",
    "$$\n",
    "v_2 = \\begin{bmatrix} x_1 & x_2 \\end{bmatrix} \\begin{bmatrix} \\lambda_1 & 0 \\\\ 0 & \\lambda_2 \\end{bmatrix} ^2 \\begin{bmatrix} x_1 & x_2 \\end{bmatrix}^{-1}v_0\n",
    "$$\n",
    "\n",
    "Fazendo uma nova multiplicação por $A$, vamos encontrar:\n",
    "$$\n",
    "v_3 = \\left( A \\right) v_2 = \\left( \\begin{bmatrix} x_1 & x_2 \\end{bmatrix} \\begin{bmatrix} \\lambda_1 & 0 \\\\ 0 & \\lambda_2 \\end{bmatrix} \\begin{bmatrix} x_1 & x_2 \\end{bmatrix}^{-1} \\right) \\begin{bmatrix} x_1 & x_2 \\end{bmatrix} \\begin{bmatrix} \\lambda_1 & 0 \\\\ 0 & \\lambda_2 \\end{bmatrix} ^2 \\begin{bmatrix} x_1 & x_2 \\end{bmatrix}^{-1}v_0\n",
    "$$\n",
    "\n",
    "Novamente, podemos trocar a multiplicação matricial $ \\begin{bmatrix} x_1 & x_2 \\end{bmatrix}^{-1} \\begin{bmatrix} x_1 & x_2 \\end{bmatrix}$ pela identidade, e agrupar $\\begin{bmatrix} \\lambda_1 & 0 \\\\ 0 & \\lambda_2 \\end{bmatrix} \\begin{bmatrix} \\lambda_1 & 0 \\\\ 0 & \\lambda_2 \\end{bmatrix}^2$ como $\\begin{bmatrix} \\lambda_1 & 0 \\\\ 0 & \\lambda_2 \\end{bmatrix}^3$, ficando com:\n",
    "\n",
    "$$\n",
    "v_3 = \\begin{bmatrix} x_1 & x_2 \\end{bmatrix} \\begin{bmatrix} \\lambda_1 & 0 \\\\ 0 & \\lambda_2 \\end{bmatrix} ^3 \\begin{bmatrix} x_1 & x_2 \\end{bmatrix}^{-1} v_0\n",
    "$$\n",
    "\n",
    "Podemos fazer essa mesma operação $N$ vezes, ficando com:\n",
    "\n",
    "$$\n",
    "v_N = \\begin{bmatrix} x_1 & x_2 \\end{bmatrix} \\begin{bmatrix} \\lambda_1 & 0 \\\\ 0 & \\lambda_2 \\end{bmatrix} ^N \\begin{bmatrix} x_1 & x_2 \\end{bmatrix}^{-1} v_0\n",
    "$$\n",
    "\n",
    "Como $\\begin{bmatrix} \\lambda_1 & 0 \\\\ 0 & \\lambda_2 \\end{bmatrix} ^N = \\begin{bmatrix} \\lambda_1 ^N & 0 \\\\ 0 & \\lambda_2 ^N \\end{bmatrix}$, a expressão fica:\n",
    "\n",
    "$$\n",
    "v_N = \\begin{bmatrix} x_1 & x_2 \\end{bmatrix} \\begin{bmatrix} \\lambda_1^N & 0 \\\\ 0 & \\lambda_2^N \\end{bmatrix} \\begin{bmatrix} x_1 & x_2 \\end{bmatrix}^{-1} v_0\n",
    "$$\n",
    "\n",
    "---\n",
    "\n",
    "Veja que agora sabemos que:\n",
    "$$\n",
    "A^N = \\begin{bmatrix} x_1 & x_2 \\end{bmatrix} \\begin{bmatrix} \\lambda_1^N & 0 \\\\ 0 & \\lambda_2^N \\end{bmatrix} \\begin{bmatrix} x_1 & x_2 \\end{bmatrix}^{-1}\n",
    "$$ \n",
    "\n",
    "Usando valores à sua escolha e supondo que $A \\in \\mathbb{R}^{2\\times 2}$, monte exemplos que mostrem o que acontece com os valores de $A^N$ se:\n",
    "\n",
<<<<<<< HEAD
    "1. Todos os auto-valores forem positivos e menores que 1? **converge pro 0 (colapso)**\n",
    "2. Somente um auto-valor for igual a 1, e os demais forem positivos e menores a 1? **chega a uma estabilidade (equilibrio)**\n",
    "3. Um dos auto-valores de for maior que 1 **converge pro infinito (explosão)**\n",
    "4. Todos os auto-valores forem iguais a 1 **manteve minha estabilidade (minha matriz dinâmica vai ser a identidade) (equilibrio)**\n",
    "5. Relacione as suas respostas anteriores aos conceitos de *explosão* (tender ao infinito ao longo de muitas iterações), *colapso* (tender a zero ao longo de muitas iterações) e *equilíbrio* (tender a um valor constante não-zero ao longo de muitas iteraçõees). ****"
=======
    "1. Todos os auto-valores forem positivos e menores que 1?\n",
    "2. Somente um auto-valor for igual a 1, e os demais forem positivos e iguais a 1?\n",
    "3. Um dos auto-valores de for maior que 1\n",
    "4. Todos os auto-valores forem iguais a 1\n",
    "5. Relacione as suas respostas anteriores aos conceitos de *explosão* (tender ao infinito ao longo de muitas iterações), *colapso* (tender a zero ao longo de muitas iterações) e *equilíbrio* (tender a um valor constante não-zero ao longo de muitas iteraçõees)."
>>>>>>> 1c3ad157837ec03470b162b9223f1ed74dd54478
   ]
  },
  {
   "cell_type": "code",
   "execution_count": null,
   "metadata": {},
   "outputs": [],
   "source": [
    "S = np.array( [[1, 0], [0.5, 0.5]]).T # Provavelmente podemos resolver este exercício sem alterar isso.\n",
    "L = np.array( [ [0.7, 0], [0, 0.2] ]) # Você provavelmente quer alterar esta linha!\n"
   ]
  },
  {
   "attachments": {},
   "cell_type": "markdown",
   "metadata": {},
   "source": [
<<<<<<< HEAD
    "ex vacina e semanas (foto cel)\n",
    "o efeito da vacina é baixar seu auto vetor da infeccão, se todos os lambidas e autovalores forem menor que 1 quer dizer que sua epidemia não acontece"
   ]
  },
  {
   "attachments": {},
   "cell_type": "markdown",
   "metadata": {},
   "source": [
=======
>>>>>>> 1c3ad157837ec03470b162b9223f1ed74dd54478
    "# Exercício 6\n",
    "*Objetivo: relacionar colapso, explosão e equilíbrio situações práticas*\n",
    "\n",
    "Neste exercício, estamos buscando entender como podemos usar a equação que vimos acima:\n",
    "\n",
    "$$\n",
    "v_N = \\begin{bmatrix} x_1 & x_2 \\end{bmatrix} \\begin{bmatrix} \\lambda_1^N & 0 \\\\ 0 & \\lambda_2^N \\end{bmatrix} \\begin{bmatrix} x_1 & x_2 \\end{bmatrix}^{-1} v_0\n",
    "$$\n",
    "\n",
    "pode ser usada para encontrar comportamentos ao longo do tempo em sistemas dinâmicos."
   ]
  },
  {
   "attachments": {},
   "cell_type": "markdown",
   "metadata": {},
   "source": [
    "\n",
    "(a) Usando auto-valores e auto-vetores no caso da população de carcarás, justifique matematicamente o fato de que muito provavelmente a população deve tender a um equilíbrio ao longo de muitos meses. "
   ]
  },
  {
   "cell_type": "code",
<<<<<<< HEAD
   "execution_count": 76,
   "metadata": {},
   "outputs": [
    {
     "name": "stdout",
     "output_type": "stream",
     "text": [
      "[0.9 1. ]\n",
      "[[-0.89442719 -0.70710678]\n",
      " [-0.4472136  -0.70710678]]\n"
     ]
    }
   ],
   "source": [
    "A = np.array([[0.8, 0.2], [-0.1,  1.1]])\n",
    "w,v = np.linalg.eig(A)\n",
    "print(w)\n",
    "print(v)\n",
    "#o -0.7,-0.7 define esse equilibrio (carcaras e sapos)"
=======
   "execution_count": null,
   "metadata": {},
   "outputs": [],
   "source": [
    "A = np.array([[0.8, 0.2], [-0.1,  1.1]])"
>>>>>>> 1c3ad157837ec03470b162b9223f1ed74dd54478
   ]
  },
  {
   "attachments": {},
   "cell_type": "markdown",
   "metadata": {},
   "source": [
    "(b) Partindo do caso da população de carcarás, suponha a seguinte situação. A população local decidiu que existem muitos carcarás nas redondezas, e por isso autorizou a caça. Com isso, ao fim do mês, ao invés de morrerem 20% dos carcarás existentes, morrem 80% dos carcarás existentes. Use auto-valores e auto-vetores para prever se esse processo de caça será eficaz para conter a população de carcarás. Após, confirme seu resultado usando uma simulação."
   ]
  },
  {
   "cell_type": "code",
<<<<<<< HEAD
   "execution_count": 77,
   "metadata": {},
   "outputs": [
    {
     "name": "stdout",
     "output_type": "stream",
     "text": [
      "[0.22279981 1.07720019]\n",
      "[[-0.99356476 -0.22229356]\n",
      " [-0.11326545 -0.97497978]]\n"
     ]
    }
   ],
   "source": [
    "A = np.array([[0.2, 0.2], [-0.1,  1.1]]) # Depois da caça, a nova matriz A ficou assim!!!\n",
    "w,v = np.linalg.eig(A)\n",
    "print(w)\n",
    "print(v) #auto vetor\n",
    "\n",
    "#vai explodir na direção do vetor 0.2, 0.97"
=======
   "execution_count": null,
   "metadata": {},
   "outputs": [],
   "source": [
    "A = np.array([[0.2, 0.2], [-0.1,  1.1]]) # Depois da caça, a nova matriz A ficou assim!!!"
>>>>>>> 1c3ad157837ec03470b162b9223f1ed74dd54478
   ]
  },
  {
   "attachments": {},
   "cell_type": "markdown",
   "metadata": {},
   "source": [
    "(c) Após a publicação de imagens chocantes sobre a caça dos carcarás, foram aprovadas leis de proteção e cuidado ambiental que fazem com que a mortalidade dos carcarás de um mês para o outro seja de apenas 19%. Usando auto-valores e auto-vetores, determine qual é o efeito dessa lei, a longo prazo, para as populações de carcarás e sapos na região."
   ]
  },
  {
   "cell_type": "code",
<<<<<<< HEAD
   "execution_count": 81,
   "metadata": {},
   "outputs": [
    {
     "name": "stdout",
     "output_type": "stream",
     "text": [
      "[0.92298438 0.98701562]\n",
      "[[-0.87067303 -0.74882458]\n",
      " [-0.49186226 -0.66276824]]\n"
     ]
    },
    {
     "data": {
      "image/png": "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",
      "text/plain": [
       "<Figure size 504x144 with 1 Axes>"
      ]
     },
     "metadata": {
      "needs_background": "light"
     },
     "output_type": "display_data"
    }
   ],
   "source": [
    "A = np.array([[0.81, 0.2], [-0.1,  1.1]]) # Depois da nova legislação, a nova matriz A ficou assim!!! #vai colapsor logo lei n funfou\n",
    "x = np.array([[1000], [1100]])\n",
    "w,v = np.linalg.eig(A)\n",
    "print(w)\n",
    "print(v)\n",
    "\n",
    "populacao_carcaras = []\n",
    "populacao_sapos = []\n",
    "for _ in range(1000):\n",
    "    populacao_carcaras.append(x[0,0])\n",
    "    populacao_sapos.append(x[1,0])\n",
    "    x = A @ x\n",
    "\n",
    "plt.figure(figsize=(7,2))\n",
    "plt.plot(populacao_carcaras, label='Carcarás')\n",
    "plt.plot(populacao_sapos, label='Sapos (* 1000)')\n",
    "# plt.ylim([0,800])\n",
    "plt.ylabel('População')\n",
    "plt.xlabel('Semanas')\n",
    "plt.show()"
=======
   "execution_count": null,
   "metadata": {},
   "outputs": [],
   "source": [
    "A = np.array([[0.81, 0.2], [-0.1,  1.1]]) # Depois da nova legislação, a nova matriz A ficou assim!!!"
>>>>>>> 1c3ad157837ec03470b162b9223f1ed74dd54478
   ]
  },
  {
   "attachments": {},
   "cell_type": "markdown",
   "metadata": {},
   "source": [
    "# Parte 2"
   ]
  },
  {
   "attachments": {},
   "cell_type": "markdown",
   "metadata": {},
   "source": [
    "# Exercício 7\n",
    "*Objetivo: representar dados numéricos em uma matriz*\n",
    "\n",
    "Quando vamos processar uma grande quantidade de dados, podemos representá-los usando, por exemplo, dataframes de Pandas:"
   ]
  },
  {
   "cell_type": "code",
<<<<<<< HEAD
   "execution_count": 5,
   "metadata": {},
   "outputs": [
    {
     "name": "stdout",
     "output_type": "stream",
     "text": [
      "       col1      col2\n",
      "0 -1.619097 -0.944020\n",
      "1  0.904002 -2.377293\n",
      "2  0.203269  0.281410\n",
      "3 -0.209021 -0.509069\n",
      "4 -0.251392 -0.215448\n"
     ]
    }
   ],
=======
   "execution_count": null,
   "metadata": {},
   "outputs": [],
>>>>>>> 1c3ad157837ec03470b162b9223f1ed74dd54478
   "source": [
    "col1 = np.random.randn(5)\n",
    "col2 = np.random.randn(5)\n",
    "df = pd.DataFrame()\n",
    "df['col1'] = col1\n",
    "df['col2'] = col2\n",
    "print(df.head())"
   ]
  },
  {
   "attachments": {},
   "cell_type": "markdown",
   "metadata": {},
   "source": [
    "Podemos passar nossos dados para um array de Numpy usando:"
   ]
  },
  {
   "cell_type": "code",
<<<<<<< HEAD
   "execution_count": 6,
   "metadata": {},
   "outputs": [
    {
     "name": "stdout",
     "output_type": "stream",
     "text": [
      "[[-1.6190966  -0.9440204 ]\n",
      " [ 0.90400194 -2.37729255]\n",
      " [ 0.20326899  0.28140995]\n",
      " [-0.20902139 -0.50906866]\n",
      " [-0.25139162 -0.21544806]]\n"
     ]
    }
   ],
=======
   "execution_count": null,
   "metadata": {},
   "outputs": [],
>>>>>>> 1c3ad157837ec03470b162b9223f1ed74dd54478
   "source": [
    "data = df[['col1', 'col2']].to_numpy()\n",
    "print(data)"
   ]
  },
  {
   "attachments": {},
   "cell_type": "markdown",
   "metadata": {},
   "source": [
    "Neste exercício, temos o objetivo de usar um array de numpy para substituir o dataframe. Usaremos o conjunto de dados [Automobile Data](https://www.kaggle.com/datasets/toramky/automobile-dataset), que é uma compilação de dados do *1985 Ward's Automotive Yearbook* e de informações fornecidas por companhias de seguro da época. Para este exercício, estamos especialmente interessados nas *features* *curb-weight* (o peso total de um veículo com o tanque cheio, sem contar os passageiros) e *highway-mpg* (o consumo de combustível do veículo, em milhas por galão).\n",
    "\n",
    "(a) Modifique o código abaixo para que as duas colunas com dados fiquem em um numpy array `X` de dimensão `N x 2`, onde `N` é o número de veículos do dataset;\n",
    "\n",
    "(b) Modifique o código abaixo para que a chamada `plt.scatter` use o array `X` ao invés de chamar o dataframe diretamente;\n",
    "\n",
    "(c) Quais informações foram perdidas quando passamos a usar arrays de numpy no lugar de um dataframe?"
   ]
  },
  {
   "cell_type": "code",
<<<<<<< HEAD
   "execution_count": 7,
   "metadata": {},
   "outputs": [
    {
     "ename": "FileNotFoundError",
     "evalue": "[Errno 2] No such file or directory: 'Automobile_data.csv'",
     "output_type": "error",
     "traceback": [
      "\u001b[0;31m---------------------------------------------------------------------------\u001b[0m",
      "\u001b[0;31mFileNotFoundError\u001b[0m                         Traceback (most recent call last)",
      "\u001b[1;32m/Users/pedropertusi/Desktop/3o semestre/alglin-alunos/05-autovetores_e_autovalores.ipynb Cell 39\u001b[0m in \u001b[0;36m<cell line: 1>\u001b[0;34m()\u001b[0m\n\u001b[0;32m----> <a href='vscode-notebook-cell:/Users/pedropertusi/Desktop/3o%20semestre/alglin-alunos/05-autovetores_e_autovalores.ipynb#Y222sZmlsZQ%3D%3D?line=0'>1</a>\u001b[0m df \u001b[39m=\u001b[39m pd\u001b[39m.\u001b[39;49mread_csv(\u001b[39m'\u001b[39;49m\u001b[39mAutomobile_data.csv\u001b[39;49m\u001b[39m'\u001b[39;49m)\n\u001b[1;32m      <a href='vscode-notebook-cell:/Users/pedropertusi/Desktop/3o%20semestre/alglin-alunos/05-autovetores_e_autovalores.ipynb#Y222sZmlsZQ%3D%3D?line=1'>2</a>\u001b[0m features \u001b[39m=\u001b[39m [\u001b[39m\"\u001b[39m\u001b[39mhighway-mpg\u001b[39m\u001b[39m\"\u001b[39m, \u001b[39m\"\u001b[39m\u001b[39mcurb-weight\u001b[39m\u001b[39m\"\u001b[39m]\n\u001b[1;32m      <a href='vscode-notebook-cell:/Users/pedropertusi/Desktop/3o%20semestre/alglin-alunos/05-autovetores_e_autovalores.ipynb#Y222sZmlsZQ%3D%3D?line=2'>3</a>\u001b[0m df \u001b[39m=\u001b[39m df[features]\n",
      "File \u001b[0;32m/Library/Frameworks/Python.framework/Versions/3.9/lib/python3.9/site-packages/pandas/util/_decorators.py:311\u001b[0m, in \u001b[0;36mdeprecate_nonkeyword_arguments.<locals>.decorate.<locals>.wrapper\u001b[0;34m(*args, **kwargs)\u001b[0m\n\u001b[1;32m    305\u001b[0m \u001b[39mif\u001b[39;00m \u001b[39mlen\u001b[39m(args) \u001b[39m>\u001b[39m num_allow_args:\n\u001b[1;32m    306\u001b[0m     warnings\u001b[39m.\u001b[39mwarn(\n\u001b[1;32m    307\u001b[0m         msg\u001b[39m.\u001b[39mformat(arguments\u001b[39m=\u001b[39marguments),\n\u001b[1;32m    308\u001b[0m         \u001b[39mFutureWarning\u001b[39;00m,\n\u001b[1;32m    309\u001b[0m         stacklevel\u001b[39m=\u001b[39mstacklevel,\n\u001b[1;32m    310\u001b[0m     )\n\u001b[0;32m--> 311\u001b[0m \u001b[39mreturn\u001b[39;00m func(\u001b[39m*\u001b[39;49margs, \u001b[39m*\u001b[39;49m\u001b[39m*\u001b[39;49mkwargs)\n",
      "File \u001b[0;32m/Library/Frameworks/Python.framework/Versions/3.9/lib/python3.9/site-packages/pandas/io/parsers/readers.py:680\u001b[0m, in \u001b[0;36mread_csv\u001b[0;34m(filepath_or_buffer, sep, delimiter, header, names, index_col, usecols, squeeze, prefix, mangle_dupe_cols, dtype, engine, converters, true_values, false_values, skipinitialspace, skiprows, skipfooter, nrows, na_values, keep_default_na, na_filter, verbose, skip_blank_lines, parse_dates, infer_datetime_format, keep_date_col, date_parser, dayfirst, cache_dates, iterator, chunksize, compression, thousands, decimal, lineterminator, quotechar, quoting, doublequote, escapechar, comment, encoding, encoding_errors, dialect, error_bad_lines, warn_bad_lines, on_bad_lines, delim_whitespace, low_memory, memory_map, float_precision, storage_options)\u001b[0m\n\u001b[1;32m    665\u001b[0m kwds_defaults \u001b[39m=\u001b[39m _refine_defaults_read(\n\u001b[1;32m    666\u001b[0m     dialect,\n\u001b[1;32m    667\u001b[0m     delimiter,\n\u001b[0;32m   (...)\u001b[0m\n\u001b[1;32m    676\u001b[0m     defaults\u001b[39m=\u001b[39m{\u001b[39m\"\u001b[39m\u001b[39mdelimiter\u001b[39m\u001b[39m\"\u001b[39m: \u001b[39m\"\u001b[39m\u001b[39m,\u001b[39m\u001b[39m\"\u001b[39m},\n\u001b[1;32m    677\u001b[0m )\n\u001b[1;32m    678\u001b[0m kwds\u001b[39m.\u001b[39mupdate(kwds_defaults)\n\u001b[0;32m--> 680\u001b[0m \u001b[39mreturn\u001b[39;00m _read(filepath_or_buffer, kwds)\n",
      "File \u001b[0;32m/Library/Frameworks/Python.framework/Versions/3.9/lib/python3.9/site-packages/pandas/io/parsers/readers.py:575\u001b[0m, in \u001b[0;36m_read\u001b[0;34m(filepath_or_buffer, kwds)\u001b[0m\n\u001b[1;32m    572\u001b[0m _validate_names(kwds\u001b[39m.\u001b[39mget(\u001b[39m\"\u001b[39m\u001b[39mnames\u001b[39m\u001b[39m\"\u001b[39m, \u001b[39mNone\u001b[39;00m))\n\u001b[1;32m    574\u001b[0m \u001b[39m# Create the parser.\u001b[39;00m\n\u001b[0;32m--> 575\u001b[0m parser \u001b[39m=\u001b[39m TextFileReader(filepath_or_buffer, \u001b[39m*\u001b[39;49m\u001b[39m*\u001b[39;49mkwds)\n\u001b[1;32m    577\u001b[0m \u001b[39mif\u001b[39;00m chunksize \u001b[39mor\u001b[39;00m iterator:\n\u001b[1;32m    578\u001b[0m     \u001b[39mreturn\u001b[39;00m parser\n",
      "File \u001b[0;32m/Library/Frameworks/Python.framework/Versions/3.9/lib/python3.9/site-packages/pandas/io/parsers/readers.py:934\u001b[0m, in \u001b[0;36mTextFileReader.__init__\u001b[0;34m(self, f, engine, **kwds)\u001b[0m\n\u001b[1;32m    931\u001b[0m     \u001b[39mself\u001b[39m\u001b[39m.\u001b[39moptions[\u001b[39m\"\u001b[39m\u001b[39mhas_index_names\u001b[39m\u001b[39m\"\u001b[39m] \u001b[39m=\u001b[39m kwds[\u001b[39m\"\u001b[39m\u001b[39mhas_index_names\u001b[39m\u001b[39m\"\u001b[39m]\n\u001b[1;32m    933\u001b[0m \u001b[39mself\u001b[39m\u001b[39m.\u001b[39mhandles: IOHandles \u001b[39m|\u001b[39m \u001b[39mNone\u001b[39;00m \u001b[39m=\u001b[39m \u001b[39mNone\u001b[39;00m\n\u001b[0;32m--> 934\u001b[0m \u001b[39mself\u001b[39m\u001b[39m.\u001b[39m_engine \u001b[39m=\u001b[39m \u001b[39mself\u001b[39;49m\u001b[39m.\u001b[39;49m_make_engine(f, \u001b[39mself\u001b[39;49m\u001b[39m.\u001b[39;49mengine)\n",
      "File \u001b[0;32m/Library/Frameworks/Python.framework/Versions/3.9/lib/python3.9/site-packages/pandas/io/parsers/readers.py:1218\u001b[0m, in \u001b[0;36mTextFileReader._make_engine\u001b[0;34m(self, f, engine)\u001b[0m\n\u001b[1;32m   1214\u001b[0m     mode \u001b[39m=\u001b[39m \u001b[39m\"\u001b[39m\u001b[39mrb\u001b[39m\u001b[39m\"\u001b[39m\n\u001b[1;32m   1215\u001b[0m \u001b[39m# error: No overload variant of \"get_handle\" matches argument types\u001b[39;00m\n\u001b[1;32m   1216\u001b[0m \u001b[39m# \"Union[str, PathLike[str], ReadCsvBuffer[bytes], ReadCsvBuffer[str]]\"\u001b[39;00m\n\u001b[1;32m   1217\u001b[0m \u001b[39m# , \"str\", \"bool\", \"Any\", \"Any\", \"Any\", \"Any\", \"Any\"\u001b[39;00m\n\u001b[0;32m-> 1218\u001b[0m \u001b[39mself\u001b[39m\u001b[39m.\u001b[39mhandles \u001b[39m=\u001b[39m get_handle(  \u001b[39m# type: ignore[call-overload]\u001b[39;49;00m\n\u001b[1;32m   1219\u001b[0m     f,\n\u001b[1;32m   1220\u001b[0m     mode,\n\u001b[1;32m   1221\u001b[0m     encoding\u001b[39m=\u001b[39;49m\u001b[39mself\u001b[39;49m\u001b[39m.\u001b[39;49moptions\u001b[39m.\u001b[39;49mget(\u001b[39m\"\u001b[39;49m\u001b[39mencoding\u001b[39;49m\u001b[39m\"\u001b[39;49m, \u001b[39mNone\u001b[39;49;00m),\n\u001b[1;32m   1222\u001b[0m     compression\u001b[39m=\u001b[39;49m\u001b[39mself\u001b[39;49m\u001b[39m.\u001b[39;49moptions\u001b[39m.\u001b[39;49mget(\u001b[39m\"\u001b[39;49m\u001b[39mcompression\u001b[39;49m\u001b[39m\"\u001b[39;49m, \u001b[39mNone\u001b[39;49;00m),\n\u001b[1;32m   1223\u001b[0m     memory_map\u001b[39m=\u001b[39;49m\u001b[39mself\u001b[39;49m\u001b[39m.\u001b[39;49moptions\u001b[39m.\u001b[39;49mget(\u001b[39m\"\u001b[39;49m\u001b[39mmemory_map\u001b[39;49m\u001b[39m\"\u001b[39;49m, \u001b[39mFalse\u001b[39;49;00m),\n\u001b[1;32m   1224\u001b[0m     is_text\u001b[39m=\u001b[39;49mis_text,\n\u001b[1;32m   1225\u001b[0m     errors\u001b[39m=\u001b[39;49m\u001b[39mself\u001b[39;49m\u001b[39m.\u001b[39;49moptions\u001b[39m.\u001b[39;49mget(\u001b[39m\"\u001b[39;49m\u001b[39mencoding_errors\u001b[39;49m\u001b[39m\"\u001b[39;49m, \u001b[39m\"\u001b[39;49m\u001b[39mstrict\u001b[39;49m\u001b[39m\"\u001b[39;49m),\n\u001b[1;32m   1226\u001b[0m     storage_options\u001b[39m=\u001b[39;49m\u001b[39mself\u001b[39;49m\u001b[39m.\u001b[39;49moptions\u001b[39m.\u001b[39;49mget(\u001b[39m\"\u001b[39;49m\u001b[39mstorage_options\u001b[39;49m\u001b[39m\"\u001b[39;49m, \u001b[39mNone\u001b[39;49;00m),\n\u001b[1;32m   1227\u001b[0m )\n\u001b[1;32m   1228\u001b[0m \u001b[39massert\u001b[39;00m \u001b[39mself\u001b[39m\u001b[39m.\u001b[39mhandles \u001b[39mis\u001b[39;00m \u001b[39mnot\u001b[39;00m \u001b[39mNone\u001b[39;00m\n\u001b[1;32m   1229\u001b[0m f \u001b[39m=\u001b[39m \u001b[39mself\u001b[39m\u001b[39m.\u001b[39mhandles\u001b[39m.\u001b[39mhandle\n",
      "File \u001b[0;32m/Library/Frameworks/Python.framework/Versions/3.9/lib/python3.9/site-packages/pandas/io/common.py:786\u001b[0m, in \u001b[0;36mget_handle\u001b[0;34m(path_or_buf, mode, encoding, compression, memory_map, is_text, errors, storage_options)\u001b[0m\n\u001b[1;32m    781\u001b[0m \u001b[39melif\u001b[39;00m \u001b[39misinstance\u001b[39m(handle, \u001b[39mstr\u001b[39m):\n\u001b[1;32m    782\u001b[0m     \u001b[39m# Check whether the filename is to be opened in binary mode.\u001b[39;00m\n\u001b[1;32m    783\u001b[0m     \u001b[39m# Binary mode does not support 'encoding' and 'newline'.\u001b[39;00m\n\u001b[1;32m    784\u001b[0m     \u001b[39mif\u001b[39;00m ioargs\u001b[39m.\u001b[39mencoding \u001b[39mand\u001b[39;00m \u001b[39m\"\u001b[39m\u001b[39mb\u001b[39m\u001b[39m\"\u001b[39m \u001b[39mnot\u001b[39;00m \u001b[39min\u001b[39;00m ioargs\u001b[39m.\u001b[39mmode:\n\u001b[1;32m    785\u001b[0m         \u001b[39m# Encoding\u001b[39;00m\n\u001b[0;32m--> 786\u001b[0m         handle \u001b[39m=\u001b[39m \u001b[39mopen\u001b[39;49m(\n\u001b[1;32m    787\u001b[0m             handle,\n\u001b[1;32m    788\u001b[0m             ioargs\u001b[39m.\u001b[39;49mmode,\n\u001b[1;32m    789\u001b[0m             encoding\u001b[39m=\u001b[39;49mioargs\u001b[39m.\u001b[39;49mencoding,\n\u001b[1;32m    790\u001b[0m             errors\u001b[39m=\u001b[39;49merrors,\n\u001b[1;32m    791\u001b[0m             newline\u001b[39m=\u001b[39;49m\u001b[39m\"\u001b[39;49m\u001b[39m\"\u001b[39;49m,\n\u001b[1;32m    792\u001b[0m         )\n\u001b[1;32m    793\u001b[0m     \u001b[39melse\u001b[39;00m:\n\u001b[1;32m    794\u001b[0m         \u001b[39m# Binary mode\u001b[39;00m\n\u001b[1;32m    795\u001b[0m         handle \u001b[39m=\u001b[39m \u001b[39mopen\u001b[39m(handle, ioargs\u001b[39m.\u001b[39mmode)\n",
      "\u001b[0;31mFileNotFoundError\u001b[0m: [Errno 2] No such file or directory: 'Automobile_data.csv'"
     ]
    }
   ],
=======
   "execution_count": null,
   "metadata": {},
   "outputs": [],
>>>>>>> 1c3ad157837ec03470b162b9223f1ed74dd54478
   "source": [
    "df = pd.read_csv('Automobile_data.csv')\n",
    "features = [\"highway-mpg\", \"curb-weight\"]\n",
    "df = df[features]\n",
    "plt.figure()\n",
    "plt.scatter(df['curb-weight'], df['highway-mpg'])\n",
    "plt.show()"
   ]
  },
  {
   "attachments": {},
   "cell_type": "markdown",
   "metadata": {},
   "source": [
<<<<<<< HEAD
    "(a) Modifique o código abaixo para que as duas colunas com dados fiquem em um numpy array `X` de dimensão `N x 2`, onde `N` é o número de veículos do dataset;"
   ]
  },
  {
   "attachments": {},
   "cell_type": "markdown",
   "metadata": {},
   "source": [
=======
>>>>>>> 1c3ad157837ec03470b162b9223f1ed74dd54478
    "# Exercício 8\n",
    "\n",
    "*Objetivo: relacionar a equação da matriz de covariância a seu código computacional*\n",
    "\n",
    "Lembre-se que a covariância entre duas colunas $x$ e $y$ de um `dataframe` é calculada por:\n",
    "\n",
    "$$\n",
    "C = \\frac{\\sum_{n=0}^{N-1} (x_n-\\bar{x})(y_n-\\bar{y})}{N-1}.\n",
    "$$\n",
    "\n",
    "Podemos usar Pandas imediatamente para calcular a covariância entre todas as colunas de um dataframe usando:"
   ]
  },
  {
   "cell_type": "code",
   "execution_count": null,
   "metadata": {},
   "outputs": [],
   "source": [
    "df.cov()"
   ]
  },
  {
   "attachments": {},
   "cell_type": "markdown",
   "metadata": {},
   "source": [
    "Neste exercício, vamos implementar essa mesma operação em Numpy. Para isso, use o array $X$ que você criou no exercício anterior. Uma das opções é usar o procedimento abaixo:\n",
    "\n",
    "(a) Centralizar cada coluna, isto é, subtrair, de cada coluna, seu valor médio (implementando as operações $x_n-\\bar{x}$ e $y_n-\\bar{y}$)\n",
    "\n",
    "(b) Multiplicar as colunas elemento a elemento (usando o operador `*`)\n",
    "\n",
    "(c) Somar o resultado da multiplicação ($np.sum$)\n",
    "\n",
    "(d) Dividir o resultado por $N-1$.\n",
    "\n",
    "Outra opção é usar a biblioteca `numpy` para calcular a matriz de covariância:"
   ]
  },
  {
   "cell_type": "code",
   "execution_count": null,
   "metadata": {},
   "outputs": [],
   "source": [
    "X = df.to_numpy()\n",
    "X = X - np.mean(X, axis=0, keepdims=True) # Linha 2\n",
    "C = X.T @ X # Linha 3\n",
    "C /= X.shape[0]-1 # Linha 4\n",
    "print(C)"
   ]
  },
  {
   "attachments": {},
   "cell_type": "markdown",
   "metadata": {},
   "source": [
    "Relacione cada uma das linhas do código acima a uma parte da equação da covariância."
   ]
  },
  {
   "attachments": {},
   "cell_type": "markdown",
   "metadata": {},
   "source": [
    "# Exercício 9\n",
    "*Objetivo: relacionar os autovetores da matriz de covariância à direção de espalhamento dos dados*\n",
    "\n",
    "Os autovalores e autovetores da matriz de covariância podem ser calculados por:"
   ]
  },
  {
   "cell_type": "code",
   "execution_count": null,
   "metadata": {},
   "outputs": [],
   "source": [
    "w, v = np.linalg.eig(C)\n",
    "print(w, v)\n",
    "v0 = v[:,0]\n",
    "v1 = v[:,1]"
   ]
  },
  {
   "attachments": {},
   "cell_type": "markdown",
   "metadata": {},
   "source": [
    "(a) Qual dos autovetores de $C$ está ligado a um autovalor mais alto?\n",
    "\n",
    "(b) Use como base o código abaixo. Adicione nele uma reta na direção do autovetor que você escolheu no ítem (a). Você está buscando um resultado parecido com:\n",
    "\n",
    "<img src=\"reta_pca_1.png\"></img>\n",
    "\n",
    "(c) O que a reta desenhada no ítem (b) indica sobre os seus dados?"
   ]
  },
  {
   "cell_type": "code",
   "execution_count": null,
   "metadata": {},
   "outputs": [],
   "source": [
    "X = df.to_numpy()\n",
    "X = X - np.mean(X, axis=0, keepdims=True) # Linha 2\n"
   ]
  },
  {
   "attachments": {},
   "cell_type": "markdown",
   "metadata": {},
   "source": [
    "# Exercício 10\n",
    "*Objetivo: fazer uma projeção PCA como uma mudança de bases*\n",
    "\n",
    "No exercício anterior, vimos que nossos pontos, embora tenham duas dimensões, podem ser razoavelmente bem explicados usando somente uma reta. Então, se pudermos projetar nossos pontos sobre essa reta, podemos reduzir o número de dimensões (ou: reduzir o número de *features*) relacionado a cada ponto.\n",
    "\n",
    "Lembre-se que uma *base* significa que passamos a representar nossos pontos como a combinação linear de vetores-base. Se a base tem vetores-linha $v_1$ e $v_2$, então nossos pontos originais $X$ podem ser representados como pontos $Y$ se:\n",
    "\n",
    "$$\n",
    " Y [v_1, v_2]^T= X\n",
    "$$\n",
    "\n",
    "Lembre-se que, neste caso, $X$ e $Y$ devem ter um ponto por linha e uma feature por coluna.\n",
    "\n",
    "Então, podemos encontrar $Y$ usando:\n",
    "$$\n",
    " Y = X ([v_1, v_2]^T) ^{-1}\n",
    "$$\n",
    "\n",
    "À partir do código abaixo, obtenha a matriz $Y$ e escolha somente a à coluna correspondente à reta que você traçou no exercício anterior. Mostre, na figura abaixo, onde os pontos \"reduzidos\" de $Y$ devem aparecer na reta. Você deve encontrar algo parecido com:\n",
    "\n",
    "<img src=\"projecao_pca_1.png\"></img>"
   ]
  },
  {
   "cell_type": "code",
   "execution_count": null,
   "metadata": {},
   "outputs": [],
   "source": [
    "X = df.to_numpy()\n",
    "X = X - np.mean(X, axis=0, keepdims=True)\n",
    "#y = X@np.linalg.inv(v.T)\n",
    "#y = X@v\n",
    "#print(y)\n",
    "#plt.figure(figsize=(3,3))\n",
    "\n",
    "plt.scatter(X[:,0], X[:,1], c='b', label='Pontos originais')\n",
    "plt.scatter(y[:,1]*v[0,1], y[:,1]*v[1,1], c='r', label='Pontos projetados')\n",
    "plt.plot([-v1[0]*1000, v1[0]*1000], [-v1[1]*1000, v1[1]*1000], 'r')\n",
    "#plt.xlim([-50,50])\n",
    "#plt.ylim([-500,500])\n",
    "plt.show()"
   ]
  },
  {
   "attachments": {},
   "cell_type": "markdown",
   "metadata": {},
   "source": [
    "# Parte 3"
   ]
  },
  {
   "attachments": {},
   "cell_type": "markdown",
   "metadata": {},
   "source": [
    "Nesta parte, vamos usar a ideia de projetar elementos em um espaço de dimensão mais baixa para visualizar dados.\n",
    "\n",
    "Para isso, precisamos de um resultado teórico, que é o seguinte:\n",
    "\n",
    "A matriz de auto-valores $P$ da matriz de covariância $C$ é ortonormal, isto é:\n",
    "\n",
    "$$\n",
    "P^{-1} = P^T\n",
    "$$\n",
    "\n",
    "A demonstração disso é opcional, embora interessante, e está num [arquivo separado](demonstracao_ortonormalidade.md)."
   ]
  },
  {
   "attachments": {},
   "cell_type": "markdown",
   "metadata": {},
   "source": [
    "# Exercício 11\n",
    "**Objetivo: fazer uma projeção PCA para visualizar dados de alta dimensão**\n",
    "\n",
    "Existe um problema que encontramos em muitos conjuntos de dados, que é o fato de eles terem *muitas* features. Quando isso acontece, é difícil visualizar os nossos pontos. Uma das possíveis soluções para isso é encontrar os auto-vetores e auto-valores da matriz de covariância dos dados, e então usar somente os dois auto-vetores ligados aos maiores auto-valores para projetar nossos dados. Desta forma, temos uma projeção que permite a visualização dos dados levando à pouca distorção de suas posições.\n",
    "\n",
    "Este procedimento se chama Análise de Componentes Principais, ou Principal Component Analysis (PCA). Trata-se de um algoritmo bem conhecido, que está executado abaixo.\n",
    "\n",
    "Partindo do código, responda:\n",
    "\n",
    "a) Quantas features existem na variável `X` originalmente?\n",
    "\n",
    "b) Qual é a dimensão da matriz de covariância `C`?\n",
    "\n",
    "c) Qual é a linha que seleciona os auto-vetores relacionados aos maiores auto-valores?\n",
    "\n",
    "d) Qual é a linha que projeta as features `X` sobre a base formada pelos dois auto-vetores escolhidos?\n",
    "\n",
    "e) Por que a forma $Y = XV$ é equivalente a $Y = X(V^{-1})^T$? Dica: use a demonstração acima!\n",
    "\n",
    "f) Quantas features há em $Y$?"
   ]
  },
  {
   "cell_type": "code",
   "execution_count": null,
   "metadata": {},
   "outputs": [],
   "source": [
    "# Carregando dados novamente\n",
    "df = pd.read_csv('Automobile_data.csv').select_dtypes(['number'])\n",
    "X = df.to_numpy()\n",
    "\n",
    "# Calculando matriz de covariância\n",
    "X = X - np.mean(X, axis=0, keepdims=True)\n",
    "C = X.T @ X\n",
    "C /= X.shape[0]-1\n",
    "w, v = np.linalg.eig(C)\n",
    "\n",
    "V = v [ :, [np.argsort(w)[-1], np.argsort(w)[-2]]]\n",
    "Y = X @ V\n",
    "\n",
    "plt.figure()\n",
    "plt.scatter(Y[:,0], Y[:,1])\n",
    "plt.show()\n",
    "\n",
    "print(V)"
   ]
  },
  {
   "attachments": {},
   "cell_type": "markdown",
   "metadata": {},
   "source": [
    "# Exercício 12\n",
    "**Objetivo: usar a biblioteca sklearn para realizar uma projeção PCA**\n",
    "\n",
    "O código abaixo exemplifica o uso da biblioteca `sklearn` para realizar uma projeção PCA equivalente à que fizemos acima.\n",
    "\n",
    "a) Observando as figuras geradas, você diria que os códigos fazem procedimentos equivalentes?\n",
    "\n",
    "b) A variável `pca.components_` mostra os componentes principais encontrados pela projeção. Como ela se relaciona à matriz `V` do exercício acima?\n",
    "\n",
    "c) A variável `pca.explained_variance_ratio` mostra o quanto da variância dos dados está explicada por cada componente da projeção. Verificando os resultados desta projeção, você diria que é seguro assumir que os dados estão praticamente posicionados sobre uma reta?"
   ]
  },
  {
   "cell_type": "code",
   "execution_count": null,
   "metadata": {},
   "outputs": [],
   "source": [
    "from sklearn.decomposition import PCA\n",
    "\n",
    "df = pd.read_csv('Automobile_data.csv').select_dtypes(['number'])\n",
    "X = df.to_numpy()\n",
    "pca = PCA(2)\n",
    "Y = pca.fit_transform(X)\n",
    "\n",
    "plt.figure()\n",
    "plt.scatter(Y[:,0], Y[:,1])\n",
    "plt.show()\n",
    "\n",
    "print(pca.components_)\n",
    "print(pca.explained_variance_ratio_)"
   ]
  },
  {
   "attachments": {},
   "cell_type": "markdown",
   "metadata": {},
   "source": [
    "# Parte 4"
   ]
  },
  {
   "cell_type": "code",
   "execution_count": null,
   "metadata": {},
   "outputs": [],
   "source": []
  },
  {
   "attachments": {},
   "cell_type": "markdown",
   "metadata": {},
   "source": [
    "# Exercício 13\n",
    "**Objetivo: ligar a decomposição por auto-valores e auto-vetores ao seu respectivo código computacional e verificar sua limitação para matrizes quadradas**\n",
    "\n",
    "Já sabemos que uma matriz quadrada $X$ pode ser decomposta em termos de seus auto-vetores (na matriz $P$) e auto-valores (na diagonal da matriz $D$) na forma:\n",
    "\n",
    "$$\n",
    "A = P D P^{-1}.\n",
    "$$\n",
    "\n",
    "O código abaixo realiza essa decomposição e a recomposição.\n",
    "\n",
    "a) Por que a matriz `B` no código é igual à matriz `A`?\n",
    "\n",
    "b) Modifique o código para que a matriz `A` deixe de ser quadrada (por exemplo, adicionando uma linha ou coluna). Que erro é apontado no código?\n",
    "\n",
    "c) Se a matriz $A$ na equação $A = P D P^{-1}$ não for quadrada, que problema deve aparecer na operação $P D P^{-1}$ em relação à dimensões de $P$ e $D$?\n"
   ]
  },
  {
   "cell_type": "code",
   "execution_count": null,
   "metadata": {},
   "outputs": [],
   "source": [
    "A = np.array( [[1, 2], [2, 3]] )\n",
    "w, v = np.linalg.eig(A)\n",
    "#print(w, v)\n",
    "w_ = np.diag(w)\n",
    "#print(w_)\n",
    "B = v @ w_ @ np.linalg.inv(v)\n",
    "\n",
    "print(v)"
   ]
  },
  {
   "attachments": {},
   "cell_type": "markdown",
   "metadata": {},
   "source": [
    "# Exercício 14\n",
    "**Objetivo: entender SVD como uma decomposição**\n",
    "\n",
    "Quando calculamos $P$ e $D$ em $A=PDP^{-1}$, estamos *decompondo* a matriz $X$ em *componentes* ($P$, $D$ e $P^{-1}$).\n",
    "\n",
    "Essa decomposição não é a única possibilidade. Uma outra, muito utilizada, é a decomposição em valores singulares (*Singular Value Decomposition*, ou **SVD**):\n",
    "\n",
    "$$\n",
    "A = U \\Sigma V^T\n",
    "$$\n",
    "\n",
    "No código abaixo:\n",
    "\n",
    "a) Confirme que a matriz `B` é igual à matriz `A`\n",
    "\n",
    "b) Compare o conteúdo das matrizes `u`, `sigma` e `vt` ao conteúdo das matrizes `v` e `w_` no exercício anterior.\n",
    "\n",
    "c) Altere o código para verificar se a decomposição SVD ainda funciona se a matriz `A` não for quadrada.\n",
    "\n",
    "d) Se a matriz `A` não é quadrada, quais são as dimensões das matrizes `u`, `sigma` e `vt`?\n",
    "\n",
    "e) O que a função `diagsvd` faz, e por que ela tem três parâmetros?"
   ]
  },
  {
   "cell_type": "code",
   "execution_count": null,
   "metadata": {},
   "outputs": [],
   "source": [
    "from scipy.linalg import svd, diagsvd\n",
    "A = np.array( [[1, 2], [2, 3]] )\n",
    "u, s, vt = svd(A)\n",
    "sigma = diagsvd(s, A.shape[0], A.shape[1])\n",
    "B = u @ sigma @ vt"
   ]
  },
  {
   "attachments": {},
   "cell_type": "markdown",
   "metadata": {},
   "source": [
    "# Exercício 15\n",
    "**Objetivo: comparar SVD ao PCA**\n",
    "\n",
    "Na decomposição SVD, usamos a formulação:\n",
    "\n",
    "$\n",
    "A = U \\Sigma V^T,\n",
    "$\n",
    "\n",
    "onde:\n",
    "\n",
    "* As colunas de $U$ são os auto-vetores de $A^T A$,\n",
    "* As colunas de $V$ (e, portanto, as linhas de $V^T$) são auto-vetores de $A A^T$,\n",
    "* $\\Sigma$ é uma matriz onde $s_{i,i}$ é a raiz quadrada dos auto-valores de $A^T A$ ou de $A A^T$.\n",
    "\n",
    "A [demonstração disso está aqui](./demonstracao_svd.md), e uma outra perspectiva sobre essa demonstração está [aqui](https://gregorygundersen.com/blog/2018/12/20/svd-proof/).\n",
    "\n",
    "\n",
    "---\n",
    "\n",
    "Na decomposição PCA, calculamos a matriz de covariância $C = A A^T$ e fazemos a projeção:\n",
    "\n",
    "$\n",
    "C = P D P^T,\n",
    "$\n",
    "\n",
    "onde:\n",
    "\n",
    "* As colunas de $P$ são os auto-vetores de $C=A A^T$,\n",
    "* A diagonal principal de $D$ tem os auto-valores de $C$.\n",
    "\n",
    "---\n",
    "\n",
    "Lembrando-se disso\":\n",
    "\n",
    "a) Como poderíamos usar a decomposição SVD para encontrar os componentes principais de $A$? \n",
    "\n",
    "b) Seria correto dizer que: \"a decomposição SVD e a decomposição PCA são a mesma decomposição\"?."
   ]
  },
  {
   "attachments": {},
   "cell_type": "markdown",
   "metadata": {},
   "source": [
    "# Exercício 16\n",
    "**Objetivo: Manipular a matriz $\\Sigma$ em uma imagem e verificar os resultados**\n",
    "\n",
    "O código abaixo abre uma imagem em tons de cinza e faz uma decomposição SVD.\n",
    "\n",
    "a) Qual é a dimensão da imagem lida?\n",
    "\n",
    "b) Quais são as dimensões das matrizes `u`, `sigma` e `vt`?\n",
    "\n",
    "c) Os valores da matriz `sigma` vêm da matriz `s`. O que acontece com a imagems se o primeiro elemento de `s` for modificado para ficar igual a `0` (dica: use `s[0] *= 0`)?\n",
    "\n",
    "d) Remova progressivamente mais elementos da matriz `s` igualando-os a zero. O que acontece com a imagem formada?\n",
    "\n",
    "e) Agora, remova elementos do *final* da matriz `s` igualando-os a zero. O que acontece com a imagem?\n",
    "\n",
    "f) Experimente perceptualmente e verifique quantos elementos você consegue remover do final da matriz `s` até que perceba alguma diferença na imagem?"
   ]
  },
  {
   "cell_type": "code",
   "execution_count": null,
   "metadata": {},
   "outputs": [],
   "source": [
    "from scipy.linalg import svd, diagsvd\n",
    "import matplotlib.image as mpimg\n",
    "\n",
    "A = mpimg.imread(\"rabbit.jpeg\").mean(axis=2)[0::4,0::4]\n",
    "\n",
    "u, s, vt = svd(A)\n",
    "\n",
    "# Altere daqui para baixo\n",
    "s = s \n",
    "# Altere daqui para cima\n",
    "\n",
    "sigma = diagsvd(s, A.shape[0], A.shape[1])\n",
    "\n",
    "B = u @ sigma @ vt\n",
    "\n",
    "plt.subplot(1,2,1)\n",
    "plt.title('Imagem original')\n",
    "plt.imshow(A, cmap='gray')\n",
    "plt.subplot(1,2,2)\n",
    "plt.title('Imagem alterada')\n",
    "plt.imshow(B, cmap='gray')\n",
    "plt.show()"
   ]
  },
  {
   "attachments": {},
   "cell_type": "markdown",
   "metadata": {},
   "source": [
    "# Exercício 17\n",
    "**Objetivo: Remover ruídos de uma imagem manipulando a matriz S**\n",
    "\n",
    "Uma possível maneira de remover ruídos de uma imagem é a seguinte:\n",
    "\n",
    "* Fazemos a decomposiçao SVD da imagem\n",
    "* Removemos os elementos de menor magnitude da matriz $\\Sigma$\n",
    "* Reconstituímos a imagem\n",
    "\n",
    "a) Aplique esse procedimento para tentar remover os ruídos que foram adicionados à imagem abaixo.\n",
    "\n",
    "b) Qual é a relação entre o ruído removido da imagem e a distorção causada na imagem?"
   ]
  },
  {
   "cell_type": "code",
   "execution_count": null,
   "metadata": {},
   "outputs": [],
   "source": [
    "from scipy.linalg import svd, diagsvd\n",
    "import matplotlib.image as mpimg\n",
    "\n",
    "A = mpimg.imread(\"rabbit.jpeg\").mean(axis=2)[0::4,0::4]\n",
    "alpha = 0.2\n",
    "A += alpha * np.random.random(A.shape) * np.max(A)\n",
    "\n",
    "u, s, vt = svd(A)\n",
    "\n",
    "# Altere daqui para baixo\n",
    "s = s\n",
    "# Altere daqui para cima\n",
    "\n",
    "sigma = diagsvd(s, A.shape[0], A.shape[1])\n",
    "\n",
    "B = u @ sigma @ vt\n",
    "\n",
    "\n",
    "plt.subplot(1,2,1)\n",
    "plt.title('Imagem ruidosa')\n",
    "plt.imshow(A, cmap='gray')\n",
    "plt.subplot(1,2,2)\n",
    "plt.title('Imagem com ruído removido')\n",
    "plt.imshow(B, cmap='gray')\n",
    "plt.show()"
   ]
  },
  {
   "attachments": {},
   "cell_type": "markdown",
   "metadata": {},
   "source": [
    "# Exercício 18\n",
    "**Objetivo: Comprimir uma imagem modificando a matriz $\\Sigma$**\n",
    "\n",
    "Muitas vezes, admitimos perdas em um processo de compressão. Isso acontece, por exemplo, em compressão de imagens ou de sons: uma pequena distorção, quase imperceptível, é aceitável, desde que isso possibilite comprimir dados.\n",
    "\n",
    "A compressão de dados funciona \"apagando\" elementos de uma imagem ou de um som. As diferentes estratégias de compressão se diferenciam em *como escolher* os elementos que são mais imperceptíveis dentro de uma imagem ou som.\n",
    "\n",
    "Nesta atividade, vamos fazer um compressor de imagens baseado em SVD. O método aplicado é bem conhecido, e uma boa explicação dele pode ser encontrada [aqui](https://medium.com/balabit-unsupervised/image-compression-using-singular-value-decomposition-de20451c69a3).\n",
    "\n",
    "Veja que, quando eliminamos valores de $\\Sigma$ fazendo-os ficar igual a zero, isso é equivalente a remover alguns elementos das matrizes $U$ e de $V^T$. Por exemplo, na decomposição:\n",
    "\n",
    "$$\n",
    "U \\Sigma V^T = \n",
    "\\begin{bmatrix}\n",
    "1 & 2 \\\\\n",
    "3 & 4\n",
    "\\end{bmatrix}\n",
    "\\begin{bmatrix}\n",
    "1 & 0 \\\\\n",
    "0 & 0.2\n",
    "\\end{bmatrix}\n",
    "\\begin{bmatrix}\n",
    "4 & 3 \\\\\n",
    "2 & 1\n",
    "\\end{bmatrix}\n",
    "$$\n",
    "\n",
    "Se eliminamos o valor $0.2$ de $\\Sigma$, ficamos com:\n",
    "\n",
    "$$ \n",
    "\\begin{bmatrix}\n",
    "1 & 2 \\\\\n",
    "3 & 4\n",
    "\\end{bmatrix}\n",
    "\\begin{bmatrix}\n",
    "1 & 0 \\\\\n",
    "0 & 0\n",
    "\\end{bmatrix}\n",
    "\\begin{bmatrix}\n",
    "4 & 3 \\\\\n",
    "2 & 1\n",
    "\\end{bmatrix}\n",
    "\n",
    "= \n",
    "\\begin{bmatrix}\n",
    "4 & 3 \\\\\n",
    "12 & 9\n",
    "\\end{bmatrix}\n",
    "\n",
    "$$\n",
    "\n",
    "Isso é equivalente a simplemente remover esse valor de $\\Sigma$, e remover as linhas e colunas de $U$ e $V^T$ que seriam multiplicadas por ele. Daí, ficamos com:\n",
    "$$\n",
    "\\begin{bmatrix}\n",
    "1  \\\\\n",
    "3 \n",
    "\\end{bmatrix}\n",
    "\\begin{bmatrix}\n",
    "1 \n",
    "\\end{bmatrix}\n",
    "\\begin{bmatrix}\n",
    "4 & 3 \\\\\n",
    "\\end{bmatrix}\n",
    "= \n",
    "\\begin{bmatrix}\n",
    "4 & 3 \\\\\n",
    "12 & 9\n",
    "\\end{bmatrix}\n",
    "$$\n",
    "\n",
    "A vantagem de remover linhas e colunas diretamente é que passamos a precisar de menos espaço para armazenar nossos dados!\n",
    "\n",
    "---\n",
    "\n",
    "Analise o código abaixo. Ele é bastante parecido com o código acima, Altere a função `comprimir` para que ela realize a remoção de elementos que foi mostrada acima. Teste seu código!!!\n",
    "\n",
    "a) Como o valor de $K$ influencia a compressão da imagem e a qualidade da imagem final?\n",
    "\n",
    "b) Qual é o menor valor de $K$ para o qual a imagem não perde qualidade?\n",
    "\n",
    "c) Qual é o maior valor de $K$ que permite reduzir o tamanho ocupado pela imagem?"
   ]
  },
  {
   "cell_type": "code",
   "execution_count": null,
   "metadata": {},
   "outputs": [],
   "source": [
    "from scipy.linalg import svd, diagsvd\n",
    "import matplotlib.image as mpimg\n",
    "\n",
    "# Altere esta função!\n",
    "def comprimir (u, s, vt, K):\n",
    "    \"\"\"Remove elementos de u, s e vt deixando somente K componentes restantes\n",
    "    \"\"\" \n",
    "    u_ = u\n",
    "    s_ = s\n",
    "    vt_ = vt\n",
    "    return u_, s_, vt_\n",
    "\n",
    "A = mpimg.imread(\"rabbit.jpeg\")\n",
    "\n",
    "u0, s0, vt0 = svd(A[:,:,0])\n",
    "u1, s1, vt1 = svd(A[:,:,1])\n",
    "u2, s2, vt2 = svd(A[:,:,2])\n",
    "\n",
    "n_bytes_inicial = A.nbytes\n",
    "print(\"Tamanho inicial da imagem (bytes): \", n_bytes_inicial)\n",
    "\n",
    "K = 10\n",
    "\n",
    "u0, s0, vt0 = comprimir(u0, s0, vt0, K)\n",
    "u1, s1, vt1 = comprimir(u1, s1, vt1, K)\n",
    "u2, s2, vt2 = comprimir(u2, s2, vt2, K)\n",
    "\n",
    "sigma0 = diagsvd(s0, u0.shape[1], vt0.shape[0])\n",
    "sigma1 = diagsvd(s1, u1.shape[1], vt1.shape[0])\n",
    "sigma2 = diagsvd(s2, u2.shape[1], vt2.shape[0])\n",
    "\n",
    "n_bytes_final = u0.nbytes + u1.nbytes + u2.nbytes + s0.nbytes + s1.nbytes + s2.nbytes + vt0.nbytes + vt1.nbytes + vt2.nbytes\n",
    "print(\"Tamanho da representação comprimida: \", n_bytes_final)\n",
    "print(\"Compressão:\", n_bytes_final / n_bytes_inicial)\n",
    "\n",
    "B = np.zeros_like(A)\n",
    "B[:,:,0] = u0 @ sigma0 @ vt0\n",
    "B[:,:,1] = u1 @ sigma1 @ vt1\n",
    "B[:,:,2] = u2 @ sigma2 @ vt2\n",
    "\n",
    "plt.subplot(1,2,1)\n",
    "plt.title('Imagem original')\n",
    "plt.imshow(A, cmap='gray')\n",
    "plt.subplot(1,2,2)\n",
    "plt.title('Imagem comprimida')\n",
    "plt.imshow(B, cmap='gray')\n",
    "plt.show()"
   ]
  },
  {
   "attachments": {},
   "cell_type": "markdown",
   "metadata": {},
   "source": [
    "# Projeto: O Desafio NetFlix\n",
    "Outros datasets: https://github.com/caserec/Datasets-for-Recommender-Systems\n",
    "\n",
    "Um problema que existe hoje em dia com as grandes empresas de streaming (Netflix, Spotify, etc.) é que elas têm um acervo de conteúdo muito grande, e os usuários tendem a gostar, cada um, de uma pequena parte desse acervo. Então, como poderíamos escolher quais filmes vão aparecer tela inicial do seu streaming?\n",
    "\n",
    "O objetivo deste projeto é fazer um sistema que toma essa decisão.\n",
    "\n",
    "## Quais dados temos à disposição?\n",
    "\n",
    "Neste projeto, trabalharemos com o [The Movies Dataset](https://www.kaggle.com/datasets/rounakbanik/the-movies-dataset), que tem, entre outras coisas, a avaliação de usuários em relação a filmes. Essa avaliação está na tabela `ratings.csv` - mas, opcionalmente, pode ser usada a `ratings_small.csv`, que tem somente um subconjunto desses dados."
   ]
  },
  {
   "cell_type": "code",
   "execution_count": null,
   "metadata": {},
   "outputs": [],
   "source": [
    "import pandas as pd\n",
    "df = pd.read_csv('ratings_small.csv')\n",
    "df.head(2)"
   ]
  },
  {
   "attachments": {},
   "cell_type": "markdown",
   "metadata": {},
   "source": []
  },
  {
   "attachments": {},
   "cell_type": "markdown",
   "metadata": {},
   "source": [
    "Veja que esse dataframe pode facilmente ser transformado numa matriz $A$ que tem uma linha para cada usuário (identificado por `userId`) e uma coluna para cada filme (identificado por `movieId`). O conteúdo da matriz é o *rating* que o usuário atribuiu ao filme. Podemos ignorar a coluna `timestamp`.\n",
    "\n",
    "## Desafio: eu vou gostar deste filme?\n",
    "\n",
    "O que gostaríamos de saber é qual nota um usuário deveria atribuir a um filme que ele ainda não assistiu. Para isso, o procedimento será o seguinte.\n",
    "\n",
    "1. Vamos escolher aleatoriamente um dos elementos da matriz $A$ e atribuir a ele um valor aleatório, gerando a matriz $B$, isto é, a matriz $B$ é igual à matriz $A$ com um dos elementos \"estragado\".\n",
    "1. O sistema receberá como entrada a matriz $B$ e a posição $i,j$ do valor aleatório. Neste momento, ele não teve acesso à matriz $A$, e, portanto, não tem como saber qual é o valor \"real\".\n",
    "1. O sistema deverá retornar o valor real que estava na matriz $A$.\n",
    "1. Esse procedimento deverá ser repetido várias vezes, de forma a gerar um histograma dos erros cometidos.\n",
    "\n",
    "## Como o sistema funciona?\n",
    "\n",
    "A ideia do sistema de recomendação é que existem \"perfis\" típicos de usuários. Os perfis, para este problema, são vetores que mostram que notas são tipicamente atribuídas para cada filme por usuários daquele perfil. Por exemplo, talvez tenhamos dois perfis e três filmes, e nesse caso poderíamos ter os perfis:\n",
    "\n",
    "* $p_0 = [2, 5, 2]$, isto é, o perfil $0$ é de uma pessoa que gosta muito do filme $f_1$, e\n",
    "* $p_1 = [5, 0, 4]$, isto é, o perfil $1$ é de uma pessoa que gosta dos filmes $f_0$ e $f_2$. \n",
    "\n",
    "Porém, sabemos que usuários reais raramente se comportam estritamente como um perfil. As notas realmente atribuídas por um usuário aos filmes, então, são modeladas como combinações lineares dos perfis. Por exemplo, podemos ter usuários:\n",
    "\n",
    "* $u_0 = 0.1 p_0 + 0.9 p_1$, para um usuário muito próximo de $p_1$ mas distante de $p_0$,\n",
    "* $u_1 = 0.1 p_0 + 0.1 p_1$, para um usuário distante tanto de $p_0$ quanto de $p_1$,\n",
    "\n",
    "e assim por diante.\n",
    "\n",
    "Então, o que precisamos é de uma maneira de mapear usuários para perfis, e então perfis para filmes. Precisamos então *decompor* nossa matriz $A$ de usuários $\\times$ filmes em componentes:\n",
    "\n",
    "$\n",
    "A = X Y Z,\n",
    "$\n",
    "\n",
    "onde:\n",
    "* $A$ tem uma linha por usuário e uma coluna por filme,\n",
    "* $X$ tem uma linha por usuário e uma coluna por perfil,\n",
    "* $Y$ é quadrada e mapeia perfis para perfis,\n",
    "* $Z$ tem uma linha por perfil e uma coluna por filme.\n",
    "\n",
    "Isso se parece bastante com algo que já fizemos nesta aula!\n",
    "\n",
    "Em nosso teste, ao aleatorizarmos um elemento da matriz $A$, estamos inserindo ruído. Como poderíamos remover esse ruído?\n",
    "\n",
    "## Descrição do projeto\n",
    "\n",
    "Neste projeto, o grupo deverá fazer um sistema preditor de nota de filmes por usuário, que funciona nas condições que foram citadas no enunciado (temos conhecimento de todo o dataset, exceto do par filme-usuário específico). O sistema projetado deve ser avaliado usando um histograma dos erros ao longo de várias estimativas. O número de estimações deve ser, no mínimo, mil. O projeto deve ser colocado em um repositório GitHub específico.\n",
    "\n",
    "Anotações importantes:\n",
    "\n",
    "1. O grupo deve enviar um link para o repositório GitHub onde está localizada a biblioteca.\n",
    "2. No diretório principal do repositório, deve haver um programa `demo.py`, que, quando executado, executa todos os testes que geram o histograma de resultados.\n",
    "3. Como o objetivo do projeto é exatamente implementar o sistema de recomendação, não é permitido usar bibliotecas que fazem recomendações. Toda a parte de algoritmos e álgebra linear deve ser feita pelo próprio grupo usando Numpy ou Scipy.\n",
    "\n",
    "**ENTREGAS**\n",
    "* Link para o repositório onde está a biblioteca.\n",
    "* No `README.md` do repositório, deve haver uma discussão sobre como o sistema funciona. Essa discussão deve corresponder ao que foi feito no código.\n",
    "* Inclua também, no próprio `README.md`, instruções sobre como rodar o `demo.py` e como usar suas funcionalidades.\n",
    "* O `README.md` também deve ter uma discussão dos resultados encontrados, incluindo o histograma dos erros e uma conclusão, baseada em dados, sobre se o grupo acredita que o sistema proposto poderia ser usado em produção.\n",
    "\n"
   ]
  },
  {
   "attachments": {},
   "cell_type": "markdown",
   "metadata": {},
   "source": [
    "\n",
    "**RUBRICA**\n",
    "\n",
    "O projeto será avaliado usando três rubricas. [Duas delas dizem respeito à redação e ao código apresentado](rubricas.md), e são compartilhados por todos os projetos. Este projeto tem ainda requisitos específicos que estão na rubrica abaixo. Os níveis são cumulativos, isto é, para passar de um nível, *todos* os requisitos dele devem ser cumpridos. A nota final é baseada na rubrica em que o trabalho obtiver o *menor* desempenho. As rubricas foram inspiradas nos níveis da [Taxonomia de Bloom](https://cft.vanderbilt.edu/guides-sub-pages/blooms-taxonomy/).\n",
    "\n",
    "| Nível | Descrição | [Tax. de Bloom](https://cft.vanderbilt.edu/guides-sub-pages/blooms-taxonomy/) |\n",
    "| --- | --- | --- |\n",
    "| F | Não entregue, entregue sem completar o `README.md`, entregue sem o `demo.py`, entregue sem resolver o problema que foi proposto, ou usando bibliotecas que resolvem o problema central do enunciado.  | Não fez |\n",
    "| D | Entregue, mas o `README.md` não indica como instalar ou rodar o programa, ou o programa usa a matriz $A$ (sem ruído) como entrada ao invés da matriz $B$. | Entender |\n",
    "| C | Devido a um erro de implementação ou de teoria, o sistema não retorna um valor coerente para o elemento faltante, isto é, simplesmente retorna um valor qualquer, aleatório, ou calculado sem base teórica adequada. | Compreender |\n",
    "| B | O método foi aplicado corretamente. | Aplicar |\n",
    "| A | Além da aplicação correta do método, o grupo realizou um teste de stress (devidamente documentado no README.md), verificando como o histograma de erro se comporta se mais dados da matriz de entrada forem \"estragados\". | Analisar |\n",
    "\n"
   ]
  },
  {
   "attachments": {},
   "cell_type": "markdown",
   "metadata": {},
   "source": [
    "# "
   ]
  }
 ],
 "metadata": {
  "kernelspec": {
   "display_name": "base",
   "language": "python",
   "name": "python3"
  },
  "language_info": {
   "codemirror_mode": {
    "name": "ipython",
    "version": 3
   },
   "file_extension": ".py",
   "mimetype": "text/x-python",
   "name": "python",
   "nbconvert_exporter": "python",
   "pygments_lexer": "ipython3",
<<<<<<< HEAD
   "version": "3.9.10"
=======
   "version": "3.10.9"
>>>>>>> 1c3ad157837ec03470b162b9223f1ed74dd54478
  },
  "orig_nbformat": 4,
  "vscode": {
   "interpreter": {
    "hash": "42e34ec1a81382d7a35a13fd98192c35dabe0890684b7b0a474deec672e3df02"
   }
  }
 },
 "nbformat": 4,
 "nbformat_minor": 2
}
