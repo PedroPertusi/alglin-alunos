{
 "cells": [
  {
   "cell_type": "code",
   "execution_count": 2,
   "metadata": {},
   "outputs": [],
   "source": [
    "import numpy as np"
   ]
  },
  {
   "attachments": {},
   "cell_type": "markdown",
   "metadata": {},
   "source": [
    "# Simulado para a prova"
   ]
  },
  {
   "attachments": {},
   "cell_type": "markdown",
   "metadata": {},
   "source": [
    "## Exercício 1\n",
    "\n",
    "Dadas as matrizes:\n",
    "\n",
    "$$\n",
    "A = \\begin{bmatrix} 0 & 1\\\\ 2 & 3 \\end{bmatrix} \\\\\n",
    "\n",
    "B = \\begin{bmatrix} 7 & 9\\\\ 23 & -1 \\end{bmatrix}\n",
    "$$\n",
    "\n",
    "calcule:\n",
    "\n",
    "1. $AB$\n",
    "1. $BA$\n",
    "1. $A \\odot B$\n",
    "1. $A^TB$\n",
    "1. $AB^{-1}$\n",
    "\n",
    "$(AB)^T = B^T A^T$\n"
   ]
  },
  {
   "cell_type": "code",
   "execution_count": 16,
   "metadata": {},
   "outputs": [
    {
     "name": "stdout",
     "output_type": "stream",
     "text": [
      "[[23 -1]\n",
      " [83 15]] [[18 34]\n",
      " [-2 20]] [[ 0  9]\n",
      " [46 -3]] [[46 -2]\n",
      " [76  6]] [[ 0.10747664 -0.03271028]\n",
      " [ 0.3317757  -0.01401869]]\n"
     ]
    }
   ],
   "source": [
    "A = np.array( [[0,1],[2,3]])\n",
    "B = np.array( [[7, 9],[23, -1]])\n",
    "x1 = A @ B\n",
    "x2 = B @ A\n",
    "x3 = B * A\n",
    "x4 = A.T @ B\n",
    "x5 = A @ np.linalg.inv(B)\n",
    "print(x1, x2, x3, x4, x5)"
   ]
  },
  {
   "attachments": {},
   "cell_type": "markdown",
   "metadata": {},
   "source": [
    "# Exercício 2\n",
    "\n",
    "Eu tenho uma núvem de pontos que está em um quadrado cujo centro é o ponto $(-2,3)$. Qual é a matriz que transforma essa núvem de pontos em uma núvem semelhante, rotacionada de 30 graus no sentido anti-horário, centrada em $(5,5)$? Se precisar, use coordenadas homogêneas!"
   ]
  },
  {
   "attachments": {},
   "cell_type": "markdown",
   "metadata": {},
   "source": [
    "$$\n",
    "R = \n",
    "\\begin{bmatrix}\n",
    "    \\cos(\\theta) & -\\sin(\\theta) & 0 \\\\\n",
    "    \\sin(\\theta) & \\cos(\\theta) & 0 \\\\\n",
    "    0 & 0 & 1\n",
    "\\end{bmatrix}\n",
    "$$\n",
    "\n",
    "$$\n",
    "T = \n",
    "\\begin{bmatrix}\n",
    "    1 & 0 & \\Delta x \\\\\n",
    "    0 & 1 & \\Delta y \\\\\n",
    "    0 & 0 & 1\n",
    "\\end{bmatrix}\n",
    "$$"
   ]
  },
  {
   "cell_type": "code",
   "execution_count": 17,
   "metadata": {},
   "outputs": [
    {
     "name": "stdout",
     "output_type": "stream",
     "text": [
      "[[ 0.8660254  -0.5         8.23205081]\n",
      " [ 0.5         0.8660254   3.40192379]\n",
      " [ 0.          0.          1.        ]]\n"
     ]
    }
   ],
   "source": [
    "T1 = np.array( [ [1, 0, 2], [0, 1, -3], [0, 0, 1]])\n",
    "theta = np.pi/6\n",
    "R =  np.array( [ [np.cos(theta), -np.sin(theta), 0], [np.sin(theta), np.cos(theta), 0], [0, 0, 1]])\n",
    "T2 = np.array( [ [1, 0, 5], [0, 1, 5], [0, 0, 1]])\n",
    "M = T2@R@T1\n",
    "print(M)"
   ]
  },
  {
   "attachments": {},
   "cell_type": "markdown",
   "metadata": {},
   "source": [
    "# Exercício 3\n",
    "\n",
    "Quatro amigos foram a uma lanchonete, e fizeram os seguintes pedidos:\n",
    "\n",
    "* 1 x-salada e 1 suco de laranja, no total de R$10,00,\n",
    "* 2 x-salada e 2 suco de laranja, no total de R$20,00,\n",
    "* 2 x-salada e 1 suco de laranja, no total de R$13,00,\n",
    "* 4 x-salada e 2 suco de laranja, no total de R$26,00.\n",
    "\n",
    "\n",
    "1. Qual é o preço do x-salada?\n",
    "1. Qual é o preço do suco de laranja?\n",
    "1. Qual é o valor de uma compra de 1 x-salada e 2 sucos de laranja?\n"
   ]
  },
  {
   "cell_type": "code",
   "execution_count": 20,
   "metadata": {},
   "outputs": [
    {
     "name": "stdout",
     "output_type": "stream",
     "text": [
      "[[3.]\n",
      " [7.]]\n",
      "[[17.]]\n"
     ]
    }
   ],
   "source": [
    "# pedidos @ precos_unitarios = precos_totais\n",
    "# precos_unitarios = pedidos^-1 @ precos_totais\n",
    "pedidos = np.array( [[1, 1],[2, 1]])\n",
    "precos_totais = np.array( [[10],[13]])\n",
    "pedidos_ = np.linalg.inv(pedidos)\n",
    "precos_unitarios = pedidos_ @ precos_totais\n",
    "precos_unitarios\n",
    "print(precos_unitarios)\n",
    "# 3\n",
    "compra = np.array( [[1, 2]]) @ precos_unitarios\n",
    "print(compra)"
   ]
  },
  {
   "cell_type": "markdown",
   "metadata": {},
   "source": []
  },
  {
   "attachments": {},
   "cell_type": "markdown",
   "metadata": {},
   "source": [
    "# Exercício 4\n",
    "\n",
    "Cada real investido na empresa E1 deu um retorno de 50 centavos ao fim de um ano. Cada real investido na empresa E2 deu um retorno de 10 centavos ao fim de um ano. Uma corretora propôs duas carteiras: C1, em que cada real é dividido igualmente entre as empresas E1 e E2, e C2, que tem 75% de aplicação na empresa E1 e 25% na empresa E2.\n",
    "\n",
    "1. Se um investidor tem 5000 reais investidos na carteira C1 e 1000 na carteira C2, qual é o seu investimento nas empresas E1 e E2?\n",
    "1. Se um investidor tem 2000 reais investidos diretamente na empresa E1, e 2000 reais na empresa E2, qual seria o investimento nas carteiras C1 e C2 equivalente?\n",
    "1. Qual é a matriz que permite transformar investimentos nas empresas E1 e E2 em investimentos nas carteiras C1 e C2?"
   ]
  },
  {
   "attachments": {},
   "cell_type": "markdown",
   "metadata": {},
   "source": [
    "$$\n",
    "E_1 = 0.5 C_1 + 0.75 C_2 \\\\\n",
    "E_2 = 0.5 C_1 + 0.25 C_2 \n",
    "$$\n",
    "\n",
    "$$\n",
    "E = \\begin{bmatrix} 0.5 & 0.75 \\\\ 0.5 & 0.25 \\end{bmatrix} C\n",
    "$$"
   ]
  },
  {
   "cell_type": "code",
   "execution_count": 26,
   "metadata": {},
   "outputs": [
    {
     "name": "stdout",
     "output_type": "stream",
     "text": [
      "[[3.25]\n",
      " [2.75]]\n",
      "[[4.]\n",
      " [0.]]\n"
     ]
    }
   ],
   "source": [
    "M = np.array( [[0.5, 0.75], [0.5, 0.25]])\n",
    "C = np.array( [[5], [1]])\n",
    "E = M @ C\n",
    "print(E)\n",
    "\n",
    "E = np.array( [[2], [2]])\n",
    "C = np.linalg.inv(M) @ E\n",
    "\n",
    "print(C)"
   ]
  },
  {
   "attachments": {},
   "cell_type": "markdown",
   "metadata": {},
   "source": [
    "# Exercício 5\n",
    "\n",
    "Escreva o vetor $x$ tal que:\n",
    "\n",
    "$$\n",
    "\\begin{bmatrix} -5 \\\\ 3 \\end{bmatrix} = \\begin{bmatrix} 0 & 1\\\\ 2 & 3 \\end{bmatrix} x\n",
    "$$"
   ]
  },
  {
   "cell_type": "code",
   "execution_count": 27,
   "metadata": {},
   "outputs": [
    {
     "name": "stdout",
     "output_type": "stream",
     "text": [
      "[[ 9.]\n",
      " [-5.]]\n"
     ]
    }
   ],
   "source": [
    "B = np.array([[0, 1],[2,3]])\n",
    "y = np.array([[-5,3]]).T\n",
    "x = np.linalg.inv(B) @ y\n",
    "print(x)"
   ]
  },
  {
   "attachments": {},
   "cell_type": "markdown",
   "metadata": {},
   "source": [
    "# Exercício 6\n",
    "\n",
    "\n",
    "Olhando uma foto do mapa em satélite da região próxima à Vila Olímpia, vemos a seguinte situação:\n",
    "\n",
    "* O Insper, que está na latitude/longitude `[-23.59857192474643, -46.67653800340679]`, está no pixel `(400, 100)`.\n",
    "* A escola Móbile, originalmente em `[-23.598451299397993, -46.66985259860919]`, está no pixel `(400, 200)`.\n",
    "* O cachorródromo do parque Ibirapuera, que fica em `[-23.59247353738838, -46.66154847926121]`, está no pixel `(200, 400)`\n",
    "\n",
    "Em que pixel deve aparecer o Burguer King, que fica na esquina da Avenida Santo Amaro com a Hélio Pelegrino, na latitude/longitude `[-23.597723757411057, -46.67377935273308]`?"
   ]
  },
  {
   "cell_type": "code",
   "execution_count": 37,
   "metadata": {},
   "outputs": [
    {
     "name": "stdout",
     "output_type": "stream",
     "text": [
      "[[-3.43175018e+04  6.19193712e+02 -7.80542216e+05]\n",
      " [ 1.30041603e+04  1.47233222e+04  9.94213319e+05]\n",
      " [ 0.00000000e+00  7.10542736e-15  1.00000000e+00]]\n",
      "[[-23.59772376]\n",
      " [-46.67377935]\n",
      " [  1.        ]]\n",
      "[[372]\n",
      " [151]\n",
      " [  0]]\n"
     ]
    }
   ],
   "source": [
    "insper = [-23.59857192474643, -46.67653800340679]\n",
    "mobile = [-23.598451299397993, -46.66985259860919]\n",
    "cachorrodromo = [-23.59247353738838, -46.66154847926121]\n",
    "bk = [-23.597723757411057, -46.67377935273308]\n",
    "\n",
    "lat = np.vstack ( (np.array([insper,mobile,cachorrodromo]).T, np.ones(3) ) )\n",
    "pix = np.array( [[400,100,1], [400,200,1], [200,400,1]]).T\n",
    "# pix = T @ lat\n",
    "# T = pix @ lat^-1\n",
    "T = pix @ np.linalg.inv(lat)\n",
    "print(T)\n",
    "bk = np.array([bk]).T\n",
    "bk = np.vstack( (bk, np.ones(1) ))\n",
    "print(bk)\n",
    "bk_pix = T @ bk\n",
    "print(bk_pix.astype(int))"
   ]
  },
  {
   "cell_type": "code",
   "execution_count": null,
   "metadata": {},
   "outputs": [],
   "source": []
  }
 ],
 "metadata": {
  "kernelspec": {
   "display_name": "base",
   "language": "python",
   "name": "python3"
  },
  "language_info": {
   "codemirror_mode": {
    "name": "ipython",
    "version": 3
   },
   "file_extension": ".py",
   "mimetype": "text/x-python",
   "name": "python",
   "nbconvert_exporter": "python",
   "pygments_lexer": "ipython3",
   "version": "3.9.15"
  },
  "orig_nbformat": 4
 },
 "nbformat": 4,
 "nbformat_minor": 2
}
