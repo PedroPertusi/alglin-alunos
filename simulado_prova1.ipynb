{
 "cells": [
  {
   "cell_type": "code",
   "execution_count": 3,
   "metadata": {},
   "outputs": [],
   "source": [
    "import numpy as np\n",
    "import math\n",
    "import matplotlib.pyplot as plt"
   ]
  },
  {
   "attachments": {},
   "cell_type": "markdown",
   "metadata": {},
   "source": [
    "# Simulado para a prova"
   ]
  },
  {
   "attachments": {},
   "cell_type": "markdown",
   "metadata": {},
   "source": [
    "## Exercício 1\n",
    "\n",
    "Dadas as matrizes:\n",
    "\n",
    "$$\n",
    "A = \\begin{bmatrix} 0 & 1\\\\ 2 & 3 \\end{bmatrix} \\\\\n",
    "\n",
    "B = \\begin{bmatrix} 7 & 9\\\\ 23 & -1 \\end{bmatrix}\n",
    "$$\n",
    "\n",
    "calcule:\n",
    "\n",
    "1. $AB$\n",
    "1. $BA$\n",
    "1. $A \\odot B$\n",
    "1. $A^TB$\n",
    "1. $AB^{-1}$\n",
    "\n",
    "$(AB)^T = B^T A^T$\n"
   ]
  },
  {
   "cell_type": "code",
   "execution_count": 4,
   "metadata": {},
   "outputs": [
    {
     "name": "stdout",
     "output_type": "stream",
     "text": [
      "[[23 -1]\n",
      " [83 15]] [[18 34]\n",
      " [-2 20]] [[ 0  9]\n",
      " [46 -3]] [[46 -2]\n",
      " [76  6]] [[ 0.10747664 -0.03271028]\n",
      " [ 0.3317757  -0.01401869]] [[23 83]\n",
      " [-1 15]]\n"
     ]
    }
   ],
   "source": [
    "A = np.array([[0,1],[2,3]])\n",
    "B = np.array([[7,9],[23,-1]])\n",
    "\n",
    "x1 = A @ B\n",
    "x2 = B @ A\n",
    "x3 = A * B # (multiplicação ponto a ponto)\n",
    "x4 = A.T @ B\n",
    "x5 = A @ np.linalg.inv(B)\n",
    "x6 = B.T @ A.T\n",
    "\n",
    "print(x1,x2,x3,x4,x5,x6)"
   ]
  },
  {
   "attachments": {},
   "cell_type": "markdown",
   "metadata": {},
   "source": [
    "# Exercício 2\n",
    "\n",
    "Eu tenho uma núvem de pontos que está em um quadrado cujo centro é o ponto $(-2,3)$. Qual é a matriz que transforma essa núvem de pontos em uma núvem semelhante, rotacionada de 30 graus no sentido anti-horário, centrada em $(5,5)$? Se precisar, use coordenadas homogêneas!"
   ]
  },
  {
   "attachments": {},
   "cell_type": "markdown",
   "metadata": {},
   "source": [
    "$$\n",
    "R = \n",
    "\\begin{bmatrix}\n",
    "    \\cos(\\theta) & -\\sin(\\theta) & 0 \\\\\n",
    "    \\sin(\\theta) & \\cos(\\theta) & 0 \\\\\n",
    "    0 & 0 & 1\n",
    "\\end{bmatrix}\n",
    "$$\n",
    "\n",
    "$$\n",
    "T = \n",
    "\\begin{bmatrix}\n",
    "    1 & 0 & \\Delta x \\\\\n",
    "    0 & 1 & \\Delta y \\\\\n",
    "    0 & 0 & 1\n",
    "\\end{bmatrix}\n",
    "$$"
   ]
  },
  {
   "cell_type": "code",
   "execution_count": 5,
   "metadata": {},
   "outputs": [
    {
     "data": {
      "image/png": "[encoded data removed]",
      "text/plain": [
       "<Figure size 432x288 with 1 Axes>"
      ]
     },
     "metadata": {
      "needs_background": "light"
     },
     "output_type": "display_data"
    },
    {
     "name": "stdout",
     "output_type": "stream",
     "text": [
      "A matriz que realiza tal é: \n",
      "[[ 0.8660254  -0.5         8.23205081]\n",
      " [ 0.5         0.8660254   3.40192379]\n",
      " [ 0.          0.          1.        ]]\n"
     ]
    }
   ],
   "source": [
    "x = np.vstack( (np.random.uniform(2, -2, size=(2, 600)), np.ones( (1,600) )))\n",
    "\n",
    "P = np.array([[1,0,-2],\n",
    "              [0,1,3],\n",
    "              [0,0,1]])\n",
    "\n",
    "O = np.array([[1,0,2],\n",
    "              [0,1,-3],\n",
    "              [0,0,1]])\n",
    "\n",
    "R = np.array([[np.cos(math.radians(30)),-np.sin(math.radians(30)),0],\n",
    "              [np.sin(math.radians(30)),np.cos(math.radians(30)),0],\n",
    "              [0,0,1]])\n",
    "\n",
    "T = np.array([[1,0,5],\n",
    "              [0,1,5],\n",
    "              [0,0,1]])\n",
    "x = P @ x\n",
    "A = T @ R @ O\n",
    "\n",
    "y = A @ x\n",
    "plt.figure()\n",
    "plt.scatter(x[0,:], x[1,:], s=1, c='r')\n",
    "plt.scatter(y[0,:], y[1,:], s=1, c='b')\n",
    "plt.xlim([-10, 10])\n",
    "plt.ylim([-10, 10])\n",
    "plt.grid()\n",
    "plt.show()\n",
    "\n",
    "print('A matriz que realiza tal é: \\n' + str(A))"
   ]
  },
  {
   "attachments": {},
   "cell_type": "markdown",
   "metadata": {},
   "source": [
    "# Exercício 3\n",
    "\n",
    "Quatro amigos foram a uma lanchonete, e fizeram os seguintes pedidos:\n",
    "\n",
    "* 1 x-salada e 1 suco de laranja, no total de R$10,00,\n",
    "* 2 x-salada e 2 suco de laranja, no total de R$20,00,\n",
    "* 2 x-salada e 1 suco de laranja, no total de R$13,00,\n",
    "* 4 x-salada e 2 suco de laranja, no total de R$26,00.\n",
    "\n",
    "\n",
    "1. Qual é o preço do x-salada?\n",
    "1. Qual é o preço do suco de laranja?\n",
    "1. Qual é o valor de uma compra de 1 x-salada e 2 sucos de laranja?\n"
   ]
  },
  {
   "cell_type": "code",
   "execution_count": 12,
   "metadata": {},
   "outputs": [
    {
     "name": "stdout",
     "output_type": "stream",
     "text": [
      "preço do x-salada: 3.0\n",
      "preço do suco laranja: 7.0\n",
      "o valor de uma compra de 1 x-salada e 2 sucos de laranja é: 17.0\n"
     ]
    }
   ],
   "source": [
    "x1 = np.array([[1,1],\n",
    "               [2,1]])\n",
    "xr = np.array([[10],\n",
    "               [13]])\n",
    "resultado = np.linalg.solve(x1,xr)\n",
    "\n",
    "print('preço do x-salada: ' + str(resultado[0][0]))\n",
    "print('preço do suco laranja: ' + str(resultado[1][0]))\n",
    "print('o valor de uma compra de 1 x-salada e 2 sucos de laranja é: ' + (str(resultado[0][0] + resultado[1][0] * 2)))"
   ]
  },
  {
   "cell_type": "markdown",
   "metadata": {},
   "source": []
  },
  {
   "attachments": {},
   "cell_type": "markdown",
   "metadata": {},
   "source": [
    "# Exercício 4\n",
    "\n",
    "Cada real investido na empresa E1 deu um retorno de 50 centavos ao fim de um ano. Cada real investido na empresa E2 deu um retorno de 10 centavos ao fim de um ano. Uma corretora propôs duas carteiras: C1, em que cada real é dividido igualmente entre as empresas E1 e E2, e C2, que tem 75% de aplicação na empresa E1 e 25% na empresa E2.\n",
    "\n",
    "1. Se um investidor tem 5000 reais investidos na carteira C1 e 1000 na carteira C2, qual é o seu investimento nas empresas E1 e E2?\n",
    "1. Se um investidor tem 2000 reais investidos diretamente na empresa E1, e 2000 reais na empresa E2, qual seria o investimento nas carteiras C1 e C2 equivalente?\n",
    "1. Qual é a matriz que permite transformar investimentos nas empresas E1 e E2 em investimentos nas carteiras C1 e C2?"
   ]
  },
  {
   "attachments": {},
   "cell_type": "markdown",
   "metadata": {},
   "source": [
    "$$\n",
    "E_1 = 0.5 C_1 + 0.75 C_2 \\\\\n",
    "E_2 = 0.5 C_1 + 0.25 C_2 \n",
    "$$\n",
    "\n",
    "$$\n",
    "E = \\begin{bmatrix} 0.5 & 0.75 \\\\ 0.5 & 0.25 \\end{bmatrix} C\n",
    "$$"
   ]
  },
  {
   "cell_type": "code",
   "execution_count": null,
   "metadata": {},
   "outputs": [],
   "source": [
    "x = np.array([[0.5,0.75],[0.5,0.25]])\n"
   ]
  },
  {
   "attachments": {},
   "cell_type": "markdown",
   "metadata": {},
   "source": [
    "# Exercício 5\n",
    "\n",
    "Escreva o vetor $x$ tal que:\n",
    "\n",
    "$$\n",
    "\\begin{bmatrix} -5 \\\\ 3 \\end{bmatrix} = \\begin{bmatrix} 0 & 1\\\\ 2 & 3 \\end{bmatrix} x\n",
    "$$"
   ]
  },
  {
   "cell_type": "code",
   "execution_count": 18,
   "metadata": {},
   "outputs": [
    {
     "data": {
      "text/plain": [
       "array([[ 9.],\n",
       "       [-5.]])"
      ]
     },
     "execution_count": 18,
     "metadata": {},
     "output_type": "execute_result"
    }
   ],
   "source": [
    "a = np.array([[-5],\n",
    "              [3]])\n",
    "b = np.array([[0,1],\n",
    "              [2,3]])\n",
    "\n",
    "x = np.linalg.solve(b,a)\n",
    "x"
   ]
  },
  {
   "attachments": {},
   "cell_type": "markdown",
   "metadata": {},
   "source": [
    "# Exercício 6\n",
    "\n",
    "\n",
    "Olhando uma foto do mapa em satélite da região próxima à Vila Olímpia, vemos a seguinte situação:\n",
    "\n",
    "* O Insper, que está na latitude/longitude `[-23.59857192474643, -46.67653800340679]`, está no pixel `(400, 100)`.\n",
    "* A escola Móbile, originalmente em `[-23.598451299397993, -46.66985259860919]`, está no pixel `(400, 200)`.\n",
    "* O cachorródromo do parque Ibirapuera, que fica em `[-23.59247353738838, -46.66154847926121]`, está no pixel `(200, 400)`\n",
    "\n",
    "Em que pixel deve aparecer o Burguer King, que fica na esquina da Avenida Santo Amaro com a Hélio Pelegrino, na latitude/longitude `[-23.597723757411057, -46.67377935273308]`?"
   ]
  },
  {
   "cell_type": "code",
   "execution_count": null,
   "metadata": {},
   "outputs": [],
   "source": []
  },
  {
   "cell_type": "code",
   "execution_count": null,
   "metadata": {},
   "outputs": [],
   "source": []
  }
 ],
 "metadata": {
  "kernelspec": {
   "display_name": "base",
   "language": "python",
   "name": "python3"
  },
  "language_info": {
   "codemirror_mode": {
    "name": "ipython",
    "version": 3
   },
   "file_extension": ".py",
   "mimetype": "text/x-python",
   "name": "python",
   "nbconvert_exporter": "python",
   "pygments_lexer": "ipython3",
   "version": "3.9.10"
  },
  "orig_nbformat": 4
 },
 "nbformat": 4,
 "nbformat_minor": 2
}
